{
 "cells": [
  {
   "attachments": {},
   "cell_type": "markdown",
   "metadata": {},
   "source": [
    "## DASK"
   ]
  },
  {
   "cell_type": "code",
   "execution_count": 1,
   "metadata": {
    "collapsed": true,
    "vscode": {
     "languageId": "python"
    }
   },
   "outputs": [],
   "source": [
    "import dask \n",
    "\n",
    "import dask.dataframe as dd\n",
    "import dask.array as da\n",
    "import pandas as pd\n",
    "import numpy as np"
   ]
  },
  {
   "cell_type": "code",
   "execution_count": 2,
   "metadata": {
    "collapsed": true,
    "vscode": {
     "languageId": "python"
    }
   },
   "outputs": [],
   "source": [
    "from dask.multiprocessing import get\n",
    "from multiprocessing import cpu_count\n",
    "\n",
    "nCores = cpu_count()"
   ]
  },
  {
   "cell_type": "code",
   "execution_count": 3,
   "metadata": {
    "vscode": {
     "languageId": "python"
    }
   },
   "outputs": [
    {
     "data": {
      "text/plain": [
       "8"
      ]
     },
     "execution_count": 3,
     "metadata": {},
     "output_type": "execute_result"
    }
   ],
   "source": [
    "nCores"
   ]
  },
  {
   "attachments": {},
   "cell_type": "markdown",
   "metadata": {},
   "source": [
    "# Dask Arrays"
   ]
  },
  {
   "cell_type": "code",
   "execution_count": 4,
   "metadata": {
    "vscode": {
     "languageId": "python"
    }
   },
   "outputs": [
    {
     "data": {
      "text/plain": [
       "array([ 0,  1,  2,  3,  4,  5,  6,  7,  8,  9, 10, 11, 12, 13, 14, 15, 16,\n",
       "       17, 18, 19, 20, 21, 22, 23, 24, 25, 26, 27, 28, 29, 30, 31, 32, 33,\n",
       "       34, 35, 36, 37, 38, 39, 40, 41, 42, 43, 44, 45, 46, 47, 48, 49, 50,\n",
       "       51, 52, 53, 54, 55, 56, 57, 58, 59, 60, 61, 62, 63, 64, 65, 66, 67,\n",
       "       68, 69, 70, 71, 72, 73, 74, 75, 76, 77, 78, 79, 80, 81, 82, 83, 84,\n",
       "       85, 86, 87, 88, 89, 90, 91, 92, 93, 94, 95, 96, 97, 98, 99])"
      ]
     },
     "execution_count": 4,
     "metadata": {},
     "output_type": "execute_result"
    }
   ],
   "source": [
    "##numpy arrays\n",
    "import numpy as np\n",
    "np.arange(100)"
   ]
  },
  {
   "cell_type": "code",
   "execution_count": 5,
   "metadata": {
    "scrolled": false,
    "vscode": {
     "languageId": "python"
    }
   },
   "outputs": [
    {
     "data": {
      "text/plain": [
       "array([ 0,  1,  2,  3,  4,  5,  6,  7,  8,  9, 10, 11, 12, 13, 14, 15, 16,\n",
       "       17, 18, 19, 20, 21, 22, 23, 24, 25, 26, 27, 28, 29, 30, 31, 32, 33,\n",
       "       34, 35, 36, 37, 38, 39, 40, 41, 42, 43, 44, 45, 46, 47, 48, 49, 50,\n",
       "       51, 52, 53, 54, 55, 56, 57, 58, 59, 60, 61, 62, 63, 64, 65, 66, 67,\n",
       "       68, 69, 70, 71, 72, 73, 74, 75, 76, 77, 78, 79, 80, 81, 82, 83, 84,\n",
       "       85, 86, 87, 88, 89, 90, 91, 92, 93, 94, 95, 96, 97, 98, 99])"
      ]
     },
     "execution_count": 5,
     "metadata": {},
     "output_type": "execute_result"
    }
   ],
   "source": [
    "##dask arrays\n",
    "import dask.array as da\n",
    "da.arange(100, chunks=5).compute()"
   ]
  },
  {
   "cell_type": "code",
   "execution_count": 6,
   "metadata": {
    "scrolled": true,
    "vscode": {
     "languageId": "python"
    }
   },
   "outputs": [
    {
     "data": {
      "image/svg+xml": [
       "<svg xmlns=\"http://www.w3.org/2000/svg\" xmlns:xlink=\"http://www.w3.org/1999/xlink\" width=\"2030pt\" height=\"164pt\" viewBox=\"0.00 0.00 2030.49 164.49\">\n",
       "<g id=\"graph0\" class=\"graph\" transform=\"scale(1 1) rotate(0) translate(4 160.49)\">\n",
       "<title>%3</title>\n",
       "<polygon fill=\"white\" stroke=\"transparent\" points=\"-4,4 -4,-160.49 2026.49,-160.49 2026.49,4 -4,4\"/>\n",
       "<!-- 1731340870411167999 -->\n",
       "<g id=\"node1\" class=\"node\">\n",
       "<title>1731340870411167999</title>\n",
       "<ellipse fill=\"none\" stroke=\"black\" cx=\"42.25\" cy=\"-42.25\" rx=\"42.49\" ry=\"42.49\"/>\n",
       "<text text-anchor=\"middle\" x=\"42.25\" y=\"-38.55\" font-family=\"Helvetica,sans-Serif\" font-size=\"14.00\">arange</text>\n",
       "</g>\n",
       "<!-- &#45;1778048627337073391 -->\n",
       "<g id=\"node2\" class=\"node\">\n",
       "<title>-1778048627337073391</title>\n",
       "<polygon fill=\"none\" stroke=\"black\" points=\"69.25,-156.49 15.25,-156.49 15.25,-120.49 69.25,-120.49 69.25,-156.49\"/>\n",
       "<text text-anchor=\"middle\" x=\"42.25\" y=\"-134.79\" font-family=\"Helvetica,sans-Serif\" font-size=\"14.00\">0</text>\n",
       "</g>\n",
       "<!-- 1731340870411167999&#45;&gt;&#45;1778048627337073391 -->\n",
       "<g id=\"edge1\" class=\"edge\">\n",
       "<title>1731340870411167999-&gt;-1778048627337073391</title>\n",
       "<path fill=\"none\" stroke=\"black\" d=\"M42.25,-84.58C42.25,-93.15 42.25,-101.98 42.25,-109.91\"/>\n",
       "<polygon fill=\"black\" stroke=\"black\" points=\"38.75,-110.06 42.25,-120.06 45.75,-110.06 38.75,-110.06\"/>\n",
       "</g>\n",
       "<!-- &#45;3471143417721773171 -->\n",
       "<g id=\"node3\" class=\"node\">\n",
       "<title>-3471143417721773171</title>\n",
       "<ellipse fill=\"none\" stroke=\"black\" cx=\"144.25\" cy=\"-42.25\" rx=\"42.49\" ry=\"42.49\"/>\n",
       "<text text-anchor=\"middle\" x=\"144.25\" y=\"-38.55\" font-family=\"Helvetica,sans-Serif\" font-size=\"14.00\">arange</text>\n",
       "</g>\n",
       "<!-- 4729592128764925034 -->\n",
       "<g id=\"node4\" class=\"node\">\n",
       "<title>4729592128764925034</title>\n",
       "<polygon fill=\"none\" stroke=\"black\" points=\"171.25,-156.49 117.25,-156.49 117.25,-120.49 171.25,-120.49 171.25,-156.49\"/>\n",
       "<text text-anchor=\"middle\" x=\"144.25\" y=\"-134.79\" font-family=\"Helvetica,sans-Serif\" font-size=\"14.00\">1</text>\n",
       "</g>\n",
       "<!-- &#45;3471143417721773171&#45;&gt;4729592128764925034 -->\n",
       "<g id=\"edge2\" class=\"edge\">\n",
       "<title>-3471143417721773171-&gt;4729592128764925034</title>\n",
       "<path fill=\"none\" stroke=\"black\" d=\"M144.25,-84.58C144.25,-93.15 144.25,-101.98 144.25,-109.91\"/>\n",
       "<polygon fill=\"black\" stroke=\"black\" points=\"140.75,-110.06 144.25,-120.06 147.75,-110.06 140.75,-110.06\"/>\n",
       "</g>\n",
       "<!-- &#45;5153071524597191336 -->\n",
       "<g id=\"node5\" class=\"node\">\n",
       "<title>-5153071524597191336</title>\n",
       "<ellipse fill=\"none\" stroke=\"black\" cx=\"246.25\" cy=\"-42.25\" rx=\"42.49\" ry=\"42.49\"/>\n",
       "<text text-anchor=\"middle\" x=\"246.25\" y=\"-38.55\" font-family=\"Helvetica,sans-Serif\" font-size=\"14.00\">arange</text>\n",
       "</g>\n",
       "<!-- 6838875501882555331 -->\n",
       "<g id=\"node6\" class=\"node\">\n",
       "<title>6838875501882555331</title>\n",
       "<polygon fill=\"none\" stroke=\"black\" points=\"273.25,-156.49 219.25,-156.49 219.25,-120.49 273.25,-120.49 273.25,-156.49\"/>\n",
       "<text text-anchor=\"middle\" x=\"246.25\" y=\"-134.79\" font-family=\"Helvetica,sans-Serif\" font-size=\"14.00\">2</text>\n",
       "</g>\n",
       "<!-- &#45;5153071524597191336&#45;&gt;6838875501882555331 -->\n",
       "<g id=\"edge3\" class=\"edge\">\n",
       "<title>-5153071524597191336-&gt;6838875501882555331</title>\n",
       "<path fill=\"none\" stroke=\"black\" d=\"M246.25,-84.58C246.25,-93.15 246.25,-101.98 246.25,-109.91\"/>\n",
       "<polygon fill=\"black\" stroke=\"black\" points=\"242.75,-110.06 246.25,-120.06 249.75,-110.06 242.75,-110.06\"/>\n",
       "</g>\n",
       "<!-- &#45;5312109735142666856 -->\n",
       "<g id=\"node7\" class=\"node\">\n",
       "<title>-5312109735142666856</title>\n",
       "<ellipse fill=\"none\" stroke=\"black\" cx=\"348.25\" cy=\"-42.25\" rx=\"42.49\" ry=\"42.49\"/>\n",
       "<text text-anchor=\"middle\" x=\"348.25\" y=\"-38.55\" font-family=\"Helvetica,sans-Serif\" font-size=\"14.00\">arange</text>\n",
       "</g>\n",
       "<!-- 1945801472909858965 -->\n",
       "<g id=\"node8\" class=\"node\">\n",
       "<title>1945801472909858965</title>\n",
       "<polygon fill=\"none\" stroke=\"black\" points=\"375.25,-156.49 321.25,-156.49 321.25,-120.49 375.25,-120.49 375.25,-156.49\"/>\n",
       "<text text-anchor=\"middle\" x=\"348.25\" y=\"-134.79\" font-family=\"Helvetica,sans-Serif\" font-size=\"14.00\">3</text>\n",
       "</g>\n",
       "<!-- &#45;5312109735142666856&#45;&gt;1945801472909858965 -->\n",
       "<g id=\"edge4\" class=\"edge\">\n",
       "<title>-5312109735142666856-&gt;1945801472909858965</title>\n",
       "<path fill=\"none\" stroke=\"black\" d=\"M348.25,-84.58C348.25,-93.15 348.25,-101.98 348.25,-109.91\"/>\n",
       "<polygon fill=\"black\" stroke=\"black\" points=\"344.75,-110.06 348.25,-120.06 351.75,-110.06 344.75,-110.06\"/>\n",
       "</g>\n",
       "<!-- 6170969858413393847 -->\n",
       "<g id=\"node9\" class=\"node\">\n",
       "<title>6170969858413393847</title>\n",
       "<ellipse fill=\"none\" stroke=\"black\" cx=\"450.25\" cy=\"-42.25\" rx=\"42.49\" ry=\"42.49\"/>\n",
       "<text text-anchor=\"middle\" x=\"450.25\" y=\"-38.55\" font-family=\"Helvetica,sans-Serif\" font-size=\"14.00\">arange</text>\n",
       "</g>\n",
       "<!-- 8453442229011857390 -->\n",
       "<g id=\"node10\" class=\"node\">\n",
       "<title>8453442229011857390</title>\n",
       "<polygon fill=\"none\" stroke=\"black\" points=\"477.25,-156.49 423.25,-156.49 423.25,-120.49 477.25,-120.49 477.25,-156.49\"/>\n",
       "<text text-anchor=\"middle\" x=\"450.25\" y=\"-134.79\" font-family=\"Helvetica,sans-Serif\" font-size=\"14.00\">4</text>\n",
       "</g>\n",
       "<!-- 6170969858413393847&#45;&gt;8453442229011857390 -->\n",
       "<g id=\"edge5\" class=\"edge\">\n",
       "<title>6170969858413393847-&gt;8453442229011857390</title>\n",
       "<path fill=\"none\" stroke=\"black\" d=\"M450.25,-84.58C450.25,-93.15 450.25,-101.98 450.25,-109.91\"/>\n",
       "<polygon fill=\"black\" stroke=\"black\" points=\"446.75,-110.06 450.25,-120.06 453.75,-110.06 446.75,-110.06\"/>\n",
       "</g>\n",
       "<!-- &#45;6704237228033810587 -->\n",
       "<g id=\"node11\" class=\"node\">\n",
       "<title>-6704237228033810587</title>\n",
       "<ellipse fill=\"none\" stroke=\"black\" cx=\"552.25\" cy=\"-42.25\" rx=\"42.49\" ry=\"42.49\"/>\n",
       "<text text-anchor=\"middle\" x=\"552.25\" y=\"-38.55\" font-family=\"Helvetica,sans-Serif\" font-size=\"14.00\">arange</text>\n",
       "</g>\n",
       "<!-- 3560368200039161024 -->\n",
       "<g id=\"node12\" class=\"node\">\n",
       "<title>3560368200039161024</title>\n",
       "<polygon fill=\"none\" stroke=\"black\" points=\"579.25,-156.49 525.25,-156.49 525.25,-120.49 579.25,-120.49 579.25,-156.49\"/>\n",
       "<text text-anchor=\"middle\" x=\"552.25\" y=\"-134.79\" font-family=\"Helvetica,sans-Serif\" font-size=\"14.00\">5</text>\n",
       "</g>\n",
       "<!-- &#45;6704237228033810587&#45;&gt;3560368200039161024 -->\n",
       "<g id=\"edge6\" class=\"edge\">\n",
       "<title>-6704237228033810587-&gt;3560368200039161024</title>\n",
       "<path fill=\"none\" stroke=\"black\" d=\"M552.25,-84.58C552.25,-93.15 552.25,-101.98 552.25,-109.91\"/>\n",
       "<polygon fill=\"black\" stroke=\"black\" points=\"548.75,-110.06 552.25,-120.06 555.75,-110.06 548.75,-110.06\"/>\n",
       "</g>\n",
       "<!-- &#45;68353841991867966 -->\n",
       "<g id=\"node13\" class=\"node\">\n",
       "<title>-68353841991867966</title>\n",
       "<ellipse fill=\"none\" stroke=\"black\" cx=\"654.25\" cy=\"-42.25\" rx=\"42.49\" ry=\"42.49\"/>\n",
       "<text text-anchor=\"middle\" x=\"654.25\" y=\"-38.55\" font-family=\"Helvetica,sans-Serif\" font-size=\"14.00\">arange</text>\n",
       "</g>\n",
       "<!-- 5669651573156791321 -->\n",
       "<g id=\"node14\" class=\"node\">\n",
       "<title>5669651573156791321</title>\n",
       "<polygon fill=\"none\" stroke=\"black\" points=\"681.25,-156.49 627.25,-156.49 627.25,-120.49 681.25,-120.49 681.25,-156.49\"/>\n",
       "<text text-anchor=\"middle\" x=\"654.25\" y=\"-134.79\" font-family=\"Helvetica,sans-Serif\" font-size=\"14.00\">6</text>\n",
       "</g>\n",
       "<!-- &#45;68353841991867966&#45;&gt;5669651573156791321 -->\n",
       "<g id=\"edge7\" class=\"edge\">\n",
       "<title>-68353841991867966-&gt;5669651573156791321</title>\n",
       "<path fill=\"none\" stroke=\"black\" d=\"M654.25,-84.58C654.25,-93.15 654.25,-101.98 654.25,-109.91\"/>\n",
       "<polygon fill=\"black\" stroke=\"black\" points=\"650.75,-110.06 654.25,-120.06 657.75,-110.06 650.75,-110.06\"/>\n",
       "</g>\n",
       "<!-- 5700914277752790486 -->\n",
       "<g id=\"node15\" class=\"node\">\n",
       "<title>5700914277752790486</title>\n",
       "<ellipse fill=\"none\" stroke=\"black\" cx=\"756.25\" cy=\"-42.25\" rx=\"42.49\" ry=\"42.49\"/>\n",
       "<text text-anchor=\"middle\" x=\"756.25\" y=\"-38.55\" font-family=\"Helvetica,sans-Serif\" font-size=\"14.00\">arange</text>\n",
       "</g>\n",
       "<!-- &#45;6269451744450761870 -->\n",
       "<g id=\"node16\" class=\"node\">\n",
       "<title>-6269451744450761870</title>\n",
       "<polygon fill=\"none\" stroke=\"black\" points=\"783.25,-156.49 729.25,-156.49 729.25,-120.49 783.25,-120.49 783.25,-156.49\"/>\n",
       "<text text-anchor=\"middle\" x=\"756.25\" y=\"-134.79\" font-family=\"Helvetica,sans-Serif\" font-size=\"14.00\">7</text>\n",
       "</g>\n",
       "<!-- 5700914277752790486&#45;&gt;&#45;6269451744450761870 -->\n",
       "<g id=\"edge8\" class=\"edge\">\n",
       "<title>5700914277752790486-&gt;-6269451744450761870</title>\n",
       "<path fill=\"none\" stroke=\"black\" d=\"M756.25,-84.58C756.25,-93.15 756.25,-101.98 756.25,-109.91\"/>\n",
       "<polygon fill=\"black\" stroke=\"black\" points=\"752.75,-110.06 756.25,-120.06 759.75,-110.06 752.75,-110.06\"/>\n",
       "</g>\n",
       "<!-- &#45;8506510623517868522 -->\n",
       "<g id=\"node17\" class=\"node\">\n",
       "<title>-8506510623517868522</title>\n",
       "<ellipse fill=\"none\" stroke=\"black\" cx=\"858.25\" cy=\"-42.25\" rx=\"42.49\" ry=\"42.49\"/>\n",
       "<text text-anchor=\"middle\" x=\"858.25\" y=\"-38.55\" font-family=\"Helvetica,sans-Serif\" font-size=\"14.00\">arange</text>\n",
       "</g>\n",
       "<!-- 7284218300286093380 -->\n",
       "<g id=\"node18\" class=\"node\">\n",
       "<title>7284218300286093380</title>\n",
       "<polygon fill=\"none\" stroke=\"black\" points=\"885.25,-156.49 831.25,-156.49 831.25,-120.49 885.25,-120.49 885.25,-156.49\"/>\n",
       "<text text-anchor=\"middle\" x=\"858.25\" y=\"-134.79\" font-family=\"Helvetica,sans-Serif\" font-size=\"14.00\">8</text>\n",
       "</g>\n",
       "<!-- &#45;8506510623517868522&#45;&gt;7284218300286093380 -->\n",
       "<g id=\"edge9\" class=\"edge\">\n",
       "<title>-8506510623517868522-&gt;7284218300286093380</title>\n",
       "<path fill=\"none\" stroke=\"black\" d=\"M858.25,-84.58C858.25,-93.15 858.25,-101.98 858.25,-109.91\"/>\n",
       "<polygon fill=\"black\" stroke=\"black\" points=\"854.75,-110.06 858.25,-120.06 861.75,-110.06 854.75,-110.06\"/>\n",
       "</g>\n",
       "<!-- 9136106545043110052 -->\n",
       "<g id=\"node19\" class=\"node\">\n",
       "<title>9136106545043110052</title>\n",
       "<ellipse fill=\"none\" stroke=\"black\" cx=\"960.25\" cy=\"-42.25\" rx=\"42.49\" ry=\"42.49\"/>\n",
       "<text text-anchor=\"middle\" x=\"960.25\" y=\"-38.55\" font-family=\"Helvetica,sans-Serif\" font-size=\"14.00\">arange</text>\n",
       "</g>\n",
       "<!-- &#45;4654885017321459811 -->\n",
       "<g id=\"node20\" class=\"node\">\n",
       "<title>-4654885017321459811</title>\n",
       "<polygon fill=\"none\" stroke=\"black\" points=\"987.25,-156.49 933.25,-156.49 933.25,-120.49 987.25,-120.49 987.25,-156.49\"/>\n",
       "<text text-anchor=\"middle\" x=\"960.25\" y=\"-134.79\" font-family=\"Helvetica,sans-Serif\" font-size=\"14.00\">9</text>\n",
       "</g>\n",
       "<!-- 9136106545043110052&#45;&gt;&#45;4654885017321459811 -->\n",
       "<g id=\"edge10\" class=\"edge\">\n",
       "<title>9136106545043110052-&gt;-4654885017321459811</title>\n",
       "<path fill=\"none\" stroke=\"black\" d=\"M960.25,-84.58C960.25,-93.15 960.25,-101.98 960.25,-109.91\"/>\n",
       "<polygon fill=\"black\" stroke=\"black\" points=\"956.75,-110.06 960.25,-120.06 963.75,-110.06 956.75,-110.06\"/>\n",
       "</g>\n",
       "<!-- 8099267132770789409 -->\n",
       "<g id=\"node21\" class=\"node\">\n",
       "<title>8099267132770789409</title>\n",
       "<ellipse fill=\"none\" stroke=\"black\" cx=\"1062.25\" cy=\"-42.25\" rx=\"42.49\" ry=\"42.49\"/>\n",
       "<text text-anchor=\"middle\" x=\"1062.25\" y=\"-38.55\" font-family=\"Helvetica,sans-Serif\" font-size=\"14.00\">arange</text>\n",
       "</g>\n",
       "<!-- 4500427644431027311 -->\n",
       "<g id=\"node22\" class=\"node\">\n",
       "<title>4500427644431027311</title>\n",
       "<polygon fill=\"none\" stroke=\"black\" points=\"1089.25,-156.49 1035.25,-156.49 1035.25,-120.49 1089.25,-120.49 1089.25,-156.49\"/>\n",
       "<text text-anchor=\"middle\" x=\"1062.25\" y=\"-134.79\" font-family=\"Helvetica,sans-Serif\" font-size=\"14.00\">10</text>\n",
       "</g>\n",
       "<!-- 8099267132770789409&#45;&gt;4500427644431027311 -->\n",
       "<g id=\"edge11\" class=\"edge\">\n",
       "<title>8099267132770789409-&gt;4500427644431027311</title>\n",
       "<path fill=\"none\" stroke=\"black\" d=\"M1062.25,-84.58C1062.25,-93.15 1062.25,-101.98 1062.25,-109.91\"/>\n",
       "<polygon fill=\"black\" stroke=\"black\" points=\"1058.75,-110.06 1062.25,-120.06 1065.75,-110.06 1058.75,-110.06\"/>\n",
       "</g>\n",
       "<!-- &#45;3262754730367069632 -->\n",
       "<g id=\"node23\" class=\"node\">\n",
       "<title>-3262754730367069632</title>\n",
       "<ellipse fill=\"none\" stroke=\"black\" cx=\"1164.25\" cy=\"-42.25\" rx=\"42.49\" ry=\"42.49\"/>\n",
       "<text text-anchor=\"middle\" x=\"1164.25\" y=\"-38.55\" font-family=\"Helvetica,sans-Serif\" font-size=\"14.00\">arange</text>\n",
       "</g>\n",
       "<!-- &#45;7438675673176525880 -->\n",
       "<g id=\"node24\" class=\"node\">\n",
       "<title>-7438675673176525880</title>\n",
       "<polygon fill=\"none\" stroke=\"black\" points=\"1191.25,-156.49 1137.25,-156.49 1137.25,-120.49 1191.25,-120.49 1191.25,-156.49\"/>\n",
       "<text text-anchor=\"middle\" x=\"1164.25\" y=\"-134.79\" font-family=\"Helvetica,sans-Serif\" font-size=\"14.00\">11</text>\n",
       "</g>\n",
       "<!-- &#45;3262754730367069632&#45;&gt;&#45;7438675673176525880 -->\n",
       "<g id=\"edge12\" class=\"edge\">\n",
       "<title>-3262754730367069632-&gt;-7438675673176525880</title>\n",
       "<path fill=\"none\" stroke=\"black\" d=\"M1164.25,-84.58C1164.25,-93.15 1164.25,-101.98 1164.25,-109.91\"/>\n",
       "<polygon fill=\"black\" stroke=\"black\" points=\"1160.75,-110.06 1164.25,-120.06 1167.75,-110.06 1160.75,-110.06\"/>\n",
       "</g>\n",
       "<!-- 976564442071822976 -->\n",
       "<g id=\"node25\" class=\"node\">\n",
       "<title>976564442071822976</title>\n",
       "<ellipse fill=\"none\" stroke=\"black\" cx=\"1266.25\" cy=\"-42.25\" rx=\"42.49\" ry=\"42.49\"/>\n",
       "<text text-anchor=\"middle\" x=\"1266.25\" y=\"-38.55\" font-family=\"Helvetica,sans-Serif\" font-size=\"14.00\">arange</text>\n",
       "</g>\n",
       "<!-- 6114994371560329370 -->\n",
       "<g id=\"node26\" class=\"node\">\n",
       "<title>6114994371560329370</title>\n",
       "<polygon fill=\"none\" stroke=\"black\" points=\"1293.25,-156.49 1239.25,-156.49 1239.25,-120.49 1293.25,-120.49 1293.25,-156.49\"/>\n",
       "<text text-anchor=\"middle\" x=\"1266.25\" y=\"-134.79\" font-family=\"Helvetica,sans-Serif\" font-size=\"14.00\">12</text>\n",
       "</g>\n",
       "<!-- 976564442071822976&#45;&gt;6114994371560329370 -->\n",
       "<g id=\"edge13\" class=\"edge\">\n",
       "<title>976564442071822976-&gt;6114994371560329370</title>\n",
       "<path fill=\"none\" stroke=\"black\" d=\"M1266.25,-84.58C1266.25,-93.15 1266.25,-101.98 1266.25,-109.91\"/>\n",
       "<polygon fill=\"black\" stroke=\"black\" points=\"1262.75,-110.06 1266.25,-120.06 1269.75,-110.06 1262.75,-110.06\"/>\n",
       "</g>\n",
       "<!-- 1504655351746704508 -->\n",
       "<g id=\"node27\" class=\"node\">\n",
       "<title>1504655351746704508</title>\n",
       "<ellipse fill=\"none\" stroke=\"black\" cx=\"1368.25\" cy=\"-42.25\" rx=\"42.49\" ry=\"42.49\"/>\n",
       "<text text-anchor=\"middle\" x=\"1368.25\" y=\"-38.55\" font-family=\"Helvetica,sans-Serif\" font-size=\"14.00\">arange</text>\n",
       "</g>\n",
       "<!-- &#45;5824108946047223821 -->\n",
       "<g id=\"node28\" class=\"node\">\n",
       "<title>-5824108946047223821</title>\n",
       "<polygon fill=\"none\" stroke=\"black\" points=\"1395.25,-156.49 1341.25,-156.49 1341.25,-120.49 1395.25,-120.49 1395.25,-156.49\"/>\n",
       "<text text-anchor=\"middle\" x=\"1368.25\" y=\"-134.79\" font-family=\"Helvetica,sans-Serif\" font-size=\"14.00\">13</text>\n",
       "</g>\n",
       "<!-- 1504655351746704508&#45;&gt;&#45;5824108946047223821 -->\n",
       "<g id=\"edge14\" class=\"edge\">\n",
       "<title>1504655351746704508-&gt;-5824108946047223821</title>\n",
       "<path fill=\"none\" stroke=\"black\" d=\"M1368.25,-84.58C1368.25,-93.15 1368.25,-101.98 1368.25,-109.91\"/>\n",
       "<polygon fill=\"black\" stroke=\"black\" points=\"1364.75,-110.06 1368.25,-120.06 1371.75,-110.06 1364.75,-110.06\"/>\n",
       "</g>\n",
       "<!-- 1981001162783729258 -->\n",
       "<g id=\"node29\" class=\"node\">\n",
       "<title>1981001162783729258</title>\n",
       "<ellipse fill=\"none\" stroke=\"black\" cx=\"1470.25\" cy=\"-42.25\" rx=\"42.49\" ry=\"42.49\"/>\n",
       "<text text-anchor=\"middle\" x=\"1470.25\" y=\"-38.55\" font-family=\"Helvetica,sans-Serif\" font-size=\"14.00\">arange</text>\n",
       "</g>\n",
       "<!-- &#45;3714825572929593524 -->\n",
       "<g id=\"node30\" class=\"node\">\n",
       "<title>-3714825572929593524</title>\n",
       "<polygon fill=\"none\" stroke=\"black\" points=\"1497.25,-156.49 1443.25,-156.49 1443.25,-120.49 1497.25,-120.49 1497.25,-156.49\"/>\n",
       "<text text-anchor=\"middle\" x=\"1470.25\" y=\"-134.79\" font-family=\"Helvetica,sans-Serif\" font-size=\"14.00\">14</text>\n",
       "</g>\n",
       "<!-- 1981001162783729258&#45;&gt;&#45;3714825572929593524 -->\n",
       "<g id=\"edge15\" class=\"edge\">\n",
       "<title>1981001162783729258-&gt;-3714825572929593524</title>\n",
       "<path fill=\"none\" stroke=\"black\" d=\"M1470.25,-84.58C1470.25,-93.15 1470.25,-101.98 1470.25,-109.91\"/>\n",
       "<polygon fill=\"black\" stroke=\"black\" points=\"1466.75,-110.06 1470.25,-120.06 1473.75,-110.06 1466.75,-110.06\"/>\n",
       "</g>\n",
       "<!-- &#45;825708953412234959 -->\n",
       "<g id=\"node31\" class=\"node\">\n",
       "<title>-825708953412234959</title>\n",
       "<ellipse fill=\"none\" stroke=\"black\" cx=\"1572.25\" cy=\"-42.25\" rx=\"42.49\" ry=\"42.49\"/>\n",
       "<text text-anchor=\"middle\" x=\"1572.25\" y=\"-38.55\" font-family=\"Helvetica,sans-Serif\" font-size=\"14.00\">arange</text>\n",
       "</g>\n",
       "<!-- &#45;8607899601902289890 -->\n",
       "<g id=\"node32\" class=\"node\">\n",
       "<title>-8607899601902289890</title>\n",
       "<polygon fill=\"none\" stroke=\"black\" points=\"1599.25,-156.49 1545.25,-156.49 1545.25,-120.49 1599.25,-120.49 1599.25,-156.49\"/>\n",
       "<text text-anchor=\"middle\" x=\"1572.25\" y=\"-134.79\" font-family=\"Helvetica,sans-Serif\" font-size=\"14.00\">15</text>\n",
       "</g>\n",
       "<!-- &#45;825708953412234959&#45;&gt;&#45;8607899601902289890 -->\n",
       "<g id=\"edge16\" class=\"edge\">\n",
       "<title>-825708953412234959-&gt;-8607899601902289890</title>\n",
       "<path fill=\"none\" stroke=\"black\" d=\"M1572.25,-84.58C1572.25,-93.15 1572.25,-101.98 1572.25,-109.91\"/>\n",
       "<polygon fill=\"black\" stroke=\"black\" points=\"1568.75,-110.06 1572.25,-120.06 1575.75,-110.06 1568.75,-110.06\"/>\n",
       "</g>\n",
       "<!-- &#45;7299975445827680090 -->\n",
       "<g id=\"node33\" class=\"node\">\n",
       "<title>-7299975445827680090</title>\n",
       "<ellipse fill=\"none\" stroke=\"black\" cx=\"1674.25\" cy=\"-42.25\" rx=\"42.49\" ry=\"42.49\"/>\n",
       "<text text-anchor=\"middle\" x=\"1674.25\" y=\"-38.55\" font-family=\"Helvetica,sans-Serif\" font-size=\"14.00\">arange</text>\n",
       "</g>\n",
       "<!-- &#45;2100258845800291465 -->\n",
       "<g id=\"node34\" class=\"node\">\n",
       "<title>-2100258845800291465</title>\n",
       "<polygon fill=\"none\" stroke=\"black\" points=\"1701.25,-156.49 1647.25,-156.49 1647.25,-120.49 1701.25,-120.49 1701.25,-156.49\"/>\n",
       "<text text-anchor=\"middle\" x=\"1674.25\" y=\"-134.79\" font-family=\"Helvetica,sans-Serif\" font-size=\"14.00\">16</text>\n",
       "</g>\n",
       "<!-- &#45;7299975445827680090&#45;&gt;&#45;2100258845800291465 -->\n",
       "<g id=\"edge17\" class=\"edge\">\n",
       "<title>-7299975445827680090-&gt;-2100258845800291465</title>\n",
       "<path fill=\"none\" stroke=\"black\" d=\"M1674.25,-84.58C1674.25,-93.15 1674.25,-101.98 1674.25,-109.91\"/>\n",
       "<polygon fill=\"black\" stroke=\"black\" points=\"1670.75,-110.06 1674.25,-120.06 1677.75,-110.06 1670.75,-110.06\"/>\n",
       "</g>\n",
       "<!-- &#45;7459013656373155610 -->\n",
       "<g id=\"node35\" class=\"node\">\n",
       "<title>-7459013656373155610</title>\n",
       "<ellipse fill=\"none\" stroke=\"black\" cx=\"1776.25\" cy=\"-42.25\" rx=\"42.49\" ry=\"42.49\"/>\n",
       "<text text-anchor=\"middle\" x=\"1776.25\" y=\"-38.55\" font-family=\"Helvetica,sans-Serif\" font-size=\"14.00\">arange</text>\n",
       "</g>\n",
       "<!-- &#45;6993332874772987831 -->\n",
       "<g id=\"node36\" class=\"node\">\n",
       "<title>-6993332874772987831</title>\n",
       "<polygon fill=\"none\" stroke=\"black\" points=\"1803.25,-156.49 1749.25,-156.49 1749.25,-120.49 1803.25,-120.49 1803.25,-156.49\"/>\n",
       "<text text-anchor=\"middle\" x=\"1776.25\" y=\"-134.79\" font-family=\"Helvetica,sans-Serif\" font-size=\"14.00\">17</text>\n",
       "</g>\n",
       "<!-- &#45;7459013656373155610&#45;&gt;&#45;6993332874772987831 -->\n",
       "<g id=\"edge18\" class=\"edge\">\n",
       "<title>-7459013656373155610-&gt;-6993332874772987831</title>\n",
       "<path fill=\"none\" stroke=\"black\" d=\"M1776.25,-84.58C1776.25,-93.15 1776.25,-101.98 1776.25,-109.91\"/>\n",
       "<polygon fill=\"black\" stroke=\"black\" points=\"1772.75,-110.06 1776.25,-120.06 1779.75,-110.06 1772.75,-110.06\"/>\n",
       "</g>\n",
       "<!-- &#45;9140941763248573775 -->\n",
       "<g id=\"node37\" class=\"node\">\n",
       "<title>-9140941763248573775</title>\n",
       "<ellipse fill=\"none\" stroke=\"black\" cx=\"1878.25\" cy=\"-42.25\" rx=\"42.49\" ry=\"42.49\"/>\n",
       "<text text-anchor=\"middle\" x=\"1878.25\" y=\"-38.55\" font-family=\"Helvetica,sans-Serif\" font-size=\"14.00\">arange</text>\n",
       "</g>\n",
       "<!-- &#45;4884049501655357534 -->\n",
       "<g id=\"node38\" class=\"node\">\n",
       "<title>-4884049501655357534</title>\n",
       "<polygon fill=\"none\" stroke=\"black\" points=\"1905.25,-156.49 1851.25,-156.49 1851.25,-120.49 1905.25,-120.49 1905.25,-156.49\"/>\n",
       "<text text-anchor=\"middle\" x=\"1878.25\" y=\"-134.79\" font-family=\"Helvetica,sans-Serif\" font-size=\"14.00\">18</text>\n",
       "</g>\n",
       "<!-- &#45;9140941763248573775&#45;&gt;&#45;4884049501655357534 -->\n",
       "<g id=\"edge19\" class=\"edge\">\n",
       "<title>-9140941763248573775-&gt;-4884049501655357534</title>\n",
       "<path fill=\"none\" stroke=\"black\" d=\"M1878.25,-84.58C1878.25,-93.15 1878.25,-101.98 1878.25,-109.91\"/>\n",
       "<polygon fill=\"black\" stroke=\"black\" points=\"1874.75,-110.06 1878.25,-120.06 1881.75,-110.06 1874.75,-110.06\"/>\n",
       "</g>\n",
       "<!-- 2100734811280645496 -->\n",
       "<g id=\"node39\" class=\"node\">\n",
       "<title>2100734811280645496</title>\n",
       "<ellipse fill=\"none\" stroke=\"black\" cx=\"1980.25\" cy=\"-42.25\" rx=\"42.49\" ry=\"42.49\"/>\n",
       "<text text-anchor=\"middle\" x=\"1980.25\" y=\"-38.55\" font-family=\"Helvetica,sans-Serif\" font-size=\"14.00\">arange</text>\n",
       "</g>\n",
       "<!-- 8669620543081497716 -->\n",
       "<g id=\"node40\" class=\"node\">\n",
       "<title>8669620543081497716</title>\n",
       "<polygon fill=\"none\" stroke=\"black\" points=\"2007.25,-156.49 1953.25,-156.49 1953.25,-120.49 2007.25,-120.49 2007.25,-156.49\"/>\n",
       "<text text-anchor=\"middle\" x=\"1980.25\" y=\"-134.79\" font-family=\"Helvetica,sans-Serif\" font-size=\"14.00\">19</text>\n",
       "</g>\n",
       "<!-- 2100734811280645496&#45;&gt;8669620543081497716 -->\n",
       "<g id=\"edge20\" class=\"edge\">\n",
       "<title>2100734811280645496-&gt;8669620543081497716</title>\n",
       "<path fill=\"none\" stroke=\"black\" d=\"M1980.25,-84.58C1980.25,-93.15 1980.25,-101.98 1980.25,-109.91\"/>\n",
       "<polygon fill=\"black\" stroke=\"black\" points=\"1976.75,-110.06 1980.25,-120.06 1983.75,-110.06 1976.75,-110.06\"/>\n",
       "</g>\n",
       "</g>\n",
       "</svg>"
      ],
      "text/plain": [
       "<IPython.core.display.SVG object>"
      ]
     },
     "execution_count": 6,
     "metadata": {},
     "output_type": "execute_result"
    }
   ],
   "source": [
    "x = da.arange(100, chunks=(5,))\n",
    "x.visualize('dask.svg')"
   ]
  },
  {
   "cell_type": "code",
   "execution_count": 7,
   "metadata": {
    "vscode": {
     "languageId": "python"
    }
   },
   "outputs": [
    {
     "data": {
      "image/svg+xml": [
       "<svg xmlns=\"http://www.w3.org/2000/svg\" xmlns:xlink=\"http://www.w3.org/1999/xlink\" width=\"194pt\" height=\"164pt\" viewBox=\"0.00 0.00 194.49 164.49\">\n",
       "<g id=\"graph0\" class=\"graph\" transform=\"scale(1 1) rotate(0) translate(4 160.49)\">\n",
       "<title>%3</title>\n",
       "<polygon fill=\"white\" stroke=\"transparent\" points=\"-4,4 -4,-160.49 190.49,-160.49 190.49,4 -4,4\"/>\n",
       "<!-- 1395080543048854806 -->\n",
       "<g id=\"node1\" class=\"node\">\n",
       "<title>1395080543048854806</title>\n",
       "<ellipse fill=\"none\" stroke=\"black\" cx=\"42.25\" cy=\"-42.25\" rx=\"42.49\" ry=\"42.49\"/>\n",
       "<text text-anchor=\"middle\" x=\"42.25\" y=\"-38.55\" font-family=\"Helvetica,sans-Serif\" font-size=\"14.00\">arange</text>\n",
       "</g>\n",
       "<!-- &#45;8259339734475637316 -->\n",
       "<g id=\"node2\" class=\"node\">\n",
       "<title>-8259339734475637316</title>\n",
       "<polygon fill=\"none\" stroke=\"black\" points=\"69.25,-156.49 15.25,-156.49 15.25,-120.49 69.25,-120.49 69.25,-156.49\"/>\n",
       "<text text-anchor=\"middle\" x=\"42.25\" y=\"-134.79\" font-family=\"Helvetica,sans-Serif\" font-size=\"14.00\">0</text>\n",
       "</g>\n",
       "<!-- 1395080543048854806&#45;&gt;&#45;8259339734475637316 -->\n",
       "<g id=\"edge1\" class=\"edge\">\n",
       "<title>1395080543048854806-&gt;-8259339734475637316</title>\n",
       "<path fill=\"none\" stroke=\"black\" d=\"M42.25,-84.58C42.25,-93.15 42.25,-101.98 42.25,-109.91\"/>\n",
       "<polygon fill=\"black\" stroke=\"black\" points=\"38.75,-110.06 42.25,-120.06 45.75,-110.06 38.75,-110.06\"/>\n",
       "</g>\n",
       "<!-- &#45;4434097254763492803 -->\n",
       "<g id=\"node3\" class=\"node\">\n",
       "<title>-4434097254763492803</title>\n",
       "<ellipse fill=\"none\" stroke=\"black\" cx=\"144.25\" cy=\"-42.25\" rx=\"42.49\" ry=\"42.49\"/>\n",
       "<text text-anchor=\"middle\" x=\"144.25\" y=\"-38.55\" font-family=\"Helvetica,sans-Serif\" font-size=\"14.00\">arange</text>\n",
       "</g>\n",
       "<!-- 5294330310261217934 -->\n",
       "<g id=\"node4\" class=\"node\">\n",
       "<title>5294330310261217934</title>\n",
       "<polygon fill=\"none\" stroke=\"black\" points=\"171.25,-156.49 117.25,-156.49 117.25,-120.49 171.25,-120.49 171.25,-156.49\"/>\n",
       "<text text-anchor=\"middle\" x=\"144.25\" y=\"-134.79\" font-family=\"Helvetica,sans-Serif\" font-size=\"14.00\">1</text>\n",
       "</g>\n",
       "<!-- &#45;4434097254763492803&#45;&gt;5294330310261217934 -->\n",
       "<g id=\"edge2\" class=\"edge\">\n",
       "<title>-4434097254763492803-&gt;5294330310261217934</title>\n",
       "<path fill=\"none\" stroke=\"black\" d=\"M144.25,-84.58C144.25,-93.15 144.25,-101.98 144.25,-109.91\"/>\n",
       "<polygon fill=\"black\" stroke=\"black\" points=\"140.75,-110.06 144.25,-120.06 147.75,-110.06 140.75,-110.06\"/>\n",
       "</g>\n",
       "</g>\n",
       "</svg>"
      ],
      "text/plain": [
       "<IPython.core.display.SVG object>"
      ]
     },
     "execution_count": 7,
     "metadata": {},
     "output_type": "execute_result"
    }
   ],
   "source": [
    "x = da.arange(10, chunks=(5,))\n",
    "x.visualize('dask.svg')"
   ]
  },
  {
   "cell_type": "code",
   "execution_count": 8,
   "metadata": {
    "vscode": {
     "languageId": "python"
    }
   },
   "outputs": [
    {
     "data": {
      "text/plain": [
       "((5, 5),)"
      ]
     },
     "execution_count": 8,
     "metadata": {},
     "output_type": "execute_result"
    }
   ],
   "source": [
    "x.chunks"
   ]
  },
  {
   "attachments": {},
   "cell_type": "markdown",
   "metadata": {},
   "source": [
    "### Convert NumPy array to Dask array"
   ]
  },
  {
   "cell_type": "code",
   "execution_count": 9,
   "metadata": {
    "vscode": {
     "languageId": "python"
    }
   },
   "outputs": [
    {
     "data": {
      "text/plain": [
       "(numpy.ndarray, dask.array.core.Array)"
      ]
     },
     "execution_count": 9,
     "metadata": {},
     "output_type": "execute_result"
    }
   ],
   "source": [
    "#numpy array\n",
    "x = np.arange(1000)\n",
    "\n",
    "#dask array\n",
    "y = da.from_array(x, chunks=(100))\n",
    "\n",
    "type(x), type(y)"
   ]
  },
  {
   "cell_type": "code",
   "execution_count": 10,
   "metadata": {
    "vscode": {
     "languageId": "python"
    }
   },
   "outputs": [
    {
     "data": {
      "text/plain": [
       "499.5"
      ]
     },
     "execution_count": 10,
     "metadata": {},
     "output_type": "execute_result"
    }
   ],
   "source": [
    "y.mean().compute()"
   ]
  },
  {
   "cell_type": "code",
   "execution_count": 11,
   "metadata": {
    "vscode": {
     "languageId": "python"
    }
   },
   "outputs": [
    {
     "data": {
      "text/html": [
       "<table>\n",
       "    <tr>\n",
       "        <td>\n",
       "            <table>\n",
       "                <thead>\n",
       "                    <tr>\n",
       "                        <td> </td>\n",
       "                        <th> Array </th>\n",
       "                        <th> Chunk </th>\n",
       "                    </tr>\n",
       "                </thead>\n",
       "                <tbody>\n",
       "                    \n",
       "                    <tr>\n",
       "                        <th> Bytes </th>\n",
       "                        <td> 80 B </td>\n",
       "                        <td> 40 B </td>\n",
       "                    </tr>\n",
       "                    \n",
       "                    <tr>\n",
       "                        <th> Shape </th>\n",
       "                        <td> (10,) </td>\n",
       "                        <td> (5,) </td>\n",
       "                    </tr>\n",
       "                    <tr>\n",
       "                        <th> Count </th>\n",
       "                        <td> 2 Tasks </td>\n",
       "                        <td> 2 Chunks </td>\n",
       "                    </tr>\n",
       "                    <tr>\n",
       "                    <th> Type </th>\n",
       "                    <td> int64 </td>\n",
       "                    <td> numpy.ndarray </td>\n",
       "                    </tr>\n",
       "                </tbody>\n",
       "            </table>\n",
       "        </td>\n",
       "        <td>\n",
       "        <svg width=\"170\" height=\"88\" style=\"stroke:rgb(0,0,0);stroke-width:1\" >\n",
       "\n",
       "  <!-- Horizontal lines -->\n",
       "  <line x1=\"0\" y1=\"0\" x2=\"120\" y2=\"0\" style=\"stroke-width:2\" />\n",
       "  <line x1=\"0\" y1=\"38\" x2=\"120\" y2=\"38\" style=\"stroke-width:2\" />\n",
       "\n",
       "  <!-- Vertical lines -->\n",
       "  <line x1=\"0\" y1=\"0\" x2=\"0\" y2=\"38\" style=\"stroke-width:2\" />\n",
       "  <line x1=\"60\" y1=\"0\" x2=\"60\" y2=\"38\" />\n",
       "  <line x1=\"120\" y1=\"0\" x2=\"120\" y2=\"38\" style=\"stroke-width:2\" />\n",
       "\n",
       "  <!-- Colored Rectangle -->\n",
       "  <polygon points=\"0.0,0.0 120.0,0.0 120.0,38.596863036086 0.0,38.596863036086\" style=\"fill:#ECB172A0;stroke-width:0\"/>\n",
       "\n",
       "  <!-- Text -->\n",
       "  <text x=\"60.000000\" y=\"58.596863\" font-size=\"1.0rem\" font-weight=\"100\" text-anchor=\"middle\" >10</text>\n",
       "  <text x=\"140.000000\" y=\"19.298432\" font-size=\"1.0rem\" font-weight=\"100\" text-anchor=\"middle\" transform=\"rotate(0,140.000000,19.298432)\">1</text>\n",
       "</svg>\n",
       "        </td>\n",
       "    </tr>\n",
       "</table>"
      ],
      "text/plain": [
       "dask.array<arange, shape=(10,), dtype=int64, chunksize=(5,), chunktype=numpy.ndarray>"
      ]
     },
     "execution_count": 11,
     "metadata": {},
     "output_type": "execute_result"
    }
   ],
   "source": [
    "x=da.arange(10, chunks=(5))\n",
    "x"
   ]
  },
  {
   "cell_type": "code",
   "execution_count": 12,
   "metadata": {
    "vscode": {
     "languageId": "python"
    }
   },
   "outputs": [
    {
     "data": {
      "text/plain": [
       "array([0, 1, 2, 3, 4, 5, 6, 7, 8, 9])"
      ]
     },
     "execution_count": 12,
     "metadata": {},
     "output_type": "execute_result"
    }
   ],
   "source": [
    "x.compute()"
   ]
  },
  {
   "cell_type": "code",
   "execution_count": 13,
   "metadata": {
    "vscode": {
     "languageId": "python"
    }
   },
   "outputs": [
    {
     "data": {
      "text/plain": [
       "array([ 0,  1,  2,  3,  4,  5,  6,  7,  8,  9, 10])"
      ]
     },
     "execution_count": 13,
     "metadata": {},
     "output_type": "execute_result"
    }
   ],
   "source": [
    "x=da.arange(11, chunks=(5))\n",
    "x.compute()"
   ]
  },
  {
   "cell_type": "code",
   "execution_count": 14,
   "metadata": {
    "scrolled": true,
    "vscode": {
     "languageId": "python"
    }
   },
   "outputs": [
    {
     "data": {
      "text/plain": [
       "((5, 5, 1),)"
      ]
     },
     "execution_count": 14,
     "metadata": {},
     "output_type": "execute_result"
    }
   ],
   "source": [
    "x.chunks"
   ]
  },
  {
   "attachments": {},
   "cell_type": "markdown",
   "metadata": {},
   "source": [
    "### Similar API"
   ]
  },
  {
   "cell_type": "code",
   "execution_count": 15,
   "metadata": {
    "vscode": {
     "languageId": "python"
    }
   },
   "outputs": [
    {
     "data": {
      "text/plain": [
       "55"
      ]
     },
     "execution_count": 15,
     "metadata": {},
     "output_type": "execute_result"
    }
   ],
   "source": [
    "x=da.arange(11, chunks=(5)) #0 to 10\n",
    "x.sum().compute()"
   ]
  },
  {
   "cell_type": "code",
   "execution_count": 16,
   "metadata": {
    "vscode": {
     "languageId": "python"
    }
   },
   "outputs": [
    {
     "data": {
      "text/plain": [
       "5.0"
      ]
     },
     "execution_count": 16,
     "metadata": {},
     "output_type": "execute_result"
    }
   ],
   "source": [
    "x=da.arange(11, chunks=(5))\n",
    "x.mean().compute()       #55/11"
   ]
  },
  {
   "attachments": {},
   "cell_type": "markdown",
   "metadata": {},
   "source": [
    "# Dask Dataframe"
   ]
  },
  {
   "cell_type": "code",
   "execution_count": 17,
   "metadata": {
    "collapsed": true,
    "vscode": {
     "languageId": "python"
    }
   },
   "outputs": [],
   "source": [
    "import dask.dataframe as dd"
   ]
  },
  {
   "cell_type": "code",
   "execution_count": 24,
   "metadata": {
    "vscode": {
     "languageId": "python"
    }
   },
   "outputs": [
    {
     "name": "stdout",
     "output_type": "stream",
     "text": [
      "total 24936\n",
      "drwxrwxr-x 2 rishabh rishabh     4096 Jun  3 14:34 .\n",
      "drwxrwxr-x 8 rishabh rishabh     4096 Jun  3 14:26 ..\n",
      "-rw-r--r-- 1 rishabh rishabh 25525678 Jul 12  2019 BF_train.csv\n"
     ]
    }
   ],
   "source": [
    "!ls -la ../input/Dask_Array_and_Dataframes"
   ]
  },
  {
   "cell_type": "code",
   "execution_count": 25,
   "metadata": {
    "scrolled": false,
    "vscode": {
     "languageId": "python"
    }
   },
   "outputs": [
    {
     "name": "stdout",
     "output_type": "stream",
     "text": [
      "CPU times: user 485 ms, sys: 68 ms, total: 553 ms\n",
      "Wall time: 552 ms\n"
     ]
    }
   ],
   "source": [
    "#for the sake of comparision\n",
    "import pandas as pd\n",
    "%time df1=pd.read_csv(\"../input/Dask_Array_and_Dataframes/BF_train.csv\")"
   ]
  },
  {
   "cell_type": "code",
   "execution_count": 26,
   "metadata": {
    "scrolled": true,
    "vscode": {
     "languageId": "python"
    }
   },
   "outputs": [
    {
     "name": "stdout",
     "output_type": "stream",
     "text": [
      "CPU times: user 13 ms, sys: 141 µs, total: 13.1 ms\n",
      "Wall time: 12.2 ms\n"
     ]
    }
   ],
   "source": [
    "import dask.dataframe as dd\n",
    "%time df = dd.read_csv('../input/Dask_Array_and_Dataframes/BF_train.csv')"
   ]
  },
  {
   "attachments": {},
   "cell_type": "markdown",
   "metadata": {},
   "source": [
    "## Similar API"
   ]
  },
  {
   "cell_type": "code",
   "execution_count": 27,
   "metadata": {
    "vscode": {
     "languageId": "python"
    }
   },
   "outputs": [
    {
     "data": {
      "text/plain": [
       "User_ID                         int64\n",
       "Product_ID                     object\n",
       "Gender                         object\n",
       "Age                            object\n",
       "Occupation                      int64\n",
       "City_Category                  object\n",
       "Stay_In_Current_City_Years     object\n",
       "Marital_Status                  int64\n",
       "Product_Category_1              int64\n",
       "Product_Category_2            float64\n",
       "Product_Category_3            float64\n",
       "Purchase                        int64\n",
       "dtype: object"
      ]
     },
     "execution_count": 27,
     "metadata": {},
     "output_type": "execute_result"
    }
   ],
   "source": [
    "df.dtypes"
   ]
  },
  {
   "cell_type": "code",
   "execution_count": 29,
   "metadata": {
    "vscode": {
     "languageId": "python"
    }
   },
   "outputs": [
    {
     "data": {
      "text/html": [
       "<div>\n",
       "<style scoped>\n",
       "    .dataframe tbody tr th:only-of-type {\n",
       "        vertical-align: middle;\n",
       "    }\n",
       "\n",
       "    .dataframe tbody tr th {\n",
       "        vertical-align: top;\n",
       "    }\n",
       "\n",
       "    .dataframe thead th {\n",
       "        text-align: right;\n",
       "    }\n",
       "</style>\n",
       "<table border=\"1\" class=\"dataframe\">\n",
       "  <thead>\n",
       "    <tr style=\"text-align: right;\">\n",
       "      <th></th>\n",
       "      <th>User_ID</th>\n",
       "      <th>Product_ID</th>\n",
       "      <th>Gender</th>\n",
       "      <th>Age</th>\n",
       "      <th>Occupation</th>\n",
       "      <th>City_Category</th>\n",
       "      <th>Stay_In_Current_City_Years</th>\n",
       "      <th>Marital_Status</th>\n",
       "      <th>Product_Category_1</th>\n",
       "      <th>Product_Category_2</th>\n",
       "      <th>Product_Category_3</th>\n",
       "      <th>Purchase</th>\n",
       "    </tr>\n",
       "  </thead>\n",
       "  <tbody>\n",
       "    <tr>\n",
       "      <th>0</th>\n",
       "      <td>1000001</td>\n",
       "      <td>P00069042</td>\n",
       "      <td>F</td>\n",
       "      <td>0-17</td>\n",
       "      <td>10</td>\n",
       "      <td>A</td>\n",
       "      <td>2</td>\n",
       "      <td>0</td>\n",
       "      <td>3</td>\n",
       "      <td>NaN</td>\n",
       "      <td>NaN</td>\n",
       "      <td>8370</td>\n",
       "    </tr>\n",
       "    <tr>\n",
       "      <th>1</th>\n",
       "      <td>1000001</td>\n",
       "      <td>P00248942</td>\n",
       "      <td>F</td>\n",
       "      <td>0-17</td>\n",
       "      <td>10</td>\n",
       "      <td>A</td>\n",
       "      <td>2</td>\n",
       "      <td>0</td>\n",
       "      <td>1</td>\n",
       "      <td>6.0</td>\n",
       "      <td>14.0</td>\n",
       "      <td>15200</td>\n",
       "    </tr>\n",
       "    <tr>\n",
       "      <th>2</th>\n",
       "      <td>1000001</td>\n",
       "      <td>P00087842</td>\n",
       "      <td>F</td>\n",
       "      <td>0-17</td>\n",
       "      <td>10</td>\n",
       "      <td>A</td>\n",
       "      <td>2</td>\n",
       "      <td>0</td>\n",
       "      <td>12</td>\n",
       "      <td>NaN</td>\n",
       "      <td>NaN</td>\n",
       "      <td>1422</td>\n",
       "    </tr>\n",
       "    <tr>\n",
       "      <th>3</th>\n",
       "      <td>1000001</td>\n",
       "      <td>P00085442</td>\n",
       "      <td>F</td>\n",
       "      <td>0-17</td>\n",
       "      <td>10</td>\n",
       "      <td>A</td>\n",
       "      <td>2</td>\n",
       "      <td>0</td>\n",
       "      <td>12</td>\n",
       "      <td>14.0</td>\n",
       "      <td>NaN</td>\n",
       "      <td>1057</td>\n",
       "    </tr>\n",
       "    <tr>\n",
       "      <th>4</th>\n",
       "      <td>1000002</td>\n",
       "      <td>P00285442</td>\n",
       "      <td>M</td>\n",
       "      <td>55+</td>\n",
       "      <td>16</td>\n",
       "      <td>C</td>\n",
       "      <td>4+</td>\n",
       "      <td>0</td>\n",
       "      <td>8</td>\n",
       "      <td>NaN</td>\n",
       "      <td>NaN</td>\n",
       "      <td>7969</td>\n",
       "    </tr>\n",
       "  </tbody>\n",
       "</table>\n",
       "</div>"
      ],
      "text/plain": [
       "   User_ID Product_ID Gender   Age  Occupation City_Category  \\\n",
       "0  1000001  P00069042      F  0-17          10             A   \n",
       "1  1000001  P00248942      F  0-17          10             A   \n",
       "2  1000001  P00087842      F  0-17          10             A   \n",
       "3  1000001  P00085442      F  0-17          10             A   \n",
       "4  1000002  P00285442      M   55+          16             C   \n",
       "\n",
       "  Stay_In_Current_City_Years  Marital_Status  Product_Category_1  \\\n",
       "0                          2               0                   3   \n",
       "1                          2               0                   1   \n",
       "2                          2               0                  12   \n",
       "3                          2               0                  12   \n",
       "4                         4+               0                   8   \n",
       "\n",
       "   Product_Category_2  Product_Category_3  Purchase  \n",
       "0                 NaN                 NaN      8370  \n",
       "1                 6.0                14.0     15200  \n",
       "2                 NaN                 NaN      1422  \n",
       "3                14.0                 NaN      1057  \n",
       "4                 NaN                 NaN      7969  "
      ]
     },
     "execution_count": 29,
     "metadata": {},
     "output_type": "execute_result"
    }
   ],
   "source": [
    "df.head()"
   ]
  },
  {
   "cell_type": "code",
   "execution_count": 30,
   "metadata": {
    "vscode": {
     "languageId": "python"
    }
   },
   "outputs": [
    {
     "data": {
      "text/plain": [
       "User_ID                            0\n",
       "Product_ID                         0\n",
       "Gender                             0\n",
       "Age                                0\n",
       "Occupation                         0\n",
       "City_Category                      0\n",
       "Stay_In_Current_City_Years         0\n",
       "Marital_Status                     0\n",
       "Product_Category_1                 0\n",
       "Product_Category_2            173638\n",
       "Product_Category_3            383247\n",
       "Purchase                           0\n",
       "dtype: int64"
      ]
     },
     "execution_count": 30,
     "metadata": {},
     "output_type": "execute_result"
    }
   ],
   "source": [
    "df.isnull().sum().compute()"
   ]
  },
  {
   "cell_type": "code",
   "execution_count": 31,
   "metadata": {
    "scrolled": true,
    "vscode": {
     "languageId": "python"
    }
   },
   "outputs": [
    {
     "data": {
      "text/plain": [
       "M    414259\n",
       "F    135809\n",
       "Name: Gender, dtype: int64"
      ]
     },
     "execution_count": 31,
     "metadata": {},
     "output_type": "execute_result"
    }
   ],
   "source": [
    "df.Gender.value_counts().compute()"
   ]
  },
  {
   "cell_type": "code",
   "execution_count": null,
   "metadata": {
    "vscode": {
     "languageId": "python"
    }
   },
   "outputs": [],
   "source": []
  }
 ],
 "metadata": {
  "kernelspec": {
   "display_name": "Python 3 (ipykernel)",
   "language": "python",
   "name": "python3"
  }
 },
 "nbformat": 4,
 "nbformat_minor": 2
}
