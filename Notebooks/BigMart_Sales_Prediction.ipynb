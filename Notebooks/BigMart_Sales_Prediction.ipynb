{
  "cells": [
    {
      "attachments": {},
      "cell_type": "markdown",
      "metadata": {
        "colab_type": "text",
        "id": "QdxTiBwfgUQc"
      },
      "source": [
        "# Pre-processing Steps\n",
        "\n",
        "<ol>1. Filling the missing values</ol>\n",
        "<ol>2. Converting categories to numbers</ol>\n",
        "<ol>3. Bring all the variables in range 0 to 1</ol>"
      ]
    },
    {
      "cell_type": "code",
      "execution_count": 75,
      "metadata": {
        "colab": {},
        "colab_type": "code",
        "id": "Mi9Sv8GigUQj"
      },
      "outputs": [],
      "source": [
        "# importing required libraries\n",
        "import pandas as pd\n",
        "import numpy as np\n",
        "import sklearn\n",
        "from sklearn.model_selection import train_test_split\n",
        "from sklearn.metrics import mean_squared_error\n",
        "import matplotlib.pyplot as plt\n",
        "%matplotlib inline"
      ]
    },
    {
      "cell_type": "code",
      "execution_count": 76,
      "metadata": {
        "colab": {
          "base_uri": "https://localhost:8080/",
          "height": 34
        },
        "colab_type": "code",
        "id": "nLbQEGY45Iy9",
        "outputId": "78b53e29-00f3-4999-8d13-0dcb4944adfe"
      },
      "outputs": [
        {
          "name": "stdout",
          "output_type": "stream",
          "text": [
            "Version of pandas: 1.4.4\n"
          ]
        }
      ],
      "source": [
        "# check version on pandas\n",
        "print('Version of pandas:', pd.__version__)"
      ]
    },
    {
      "cell_type": "code",
      "execution_count": 77,
      "metadata": {
        "colab": {},
        "colab_type": "code",
        "id": "LLs73an_gUQ2"
      },
      "outputs": [],
      "source": [
        "# reading the bigmart sales data\n",
        "\n",
        "# reading train data\n",
        "df_train = pd.read_csv('../input/BigMart_Sales_Predictions/train.csv')\n",
        "\n",
        "# reading test data\n",
        "df_test = pd.read_csv('../input/BigMart_Sales_Predictions/test.csv')\n",
        "\n",
        "# reading sample submission data\n",
        "df_sample = pd.read_csv('../input/BigMart_Sales_Predictions/sample_submission.csv')"
      ]
    },
    {
      "cell_type": "code",
      "execution_count": 78,
      "metadata": {
        "colab": {
          "base_uri": "https://localhost:8080/",
          "height": 243
        },
        "colab_type": "code",
        "id": "4EbJ0M-pgURA",
        "outputId": "d66c38bd-b26c-4317-d302-590a38c84bf5"
      },
      "outputs": [
        {
          "data": {
            "text/html": [
              "<div>\n",
              "<style scoped>\n",
              "    .dataframe tbody tr th:only-of-type {\n",
              "        vertical-align: middle;\n",
              "    }\n",
              "\n",
              "    .dataframe tbody tr th {\n",
              "        vertical-align: top;\n",
              "    }\n",
              "\n",
              "    .dataframe thead th {\n",
              "        text-align: right;\n",
              "    }\n",
              "</style>\n",
              "<table border=\"1\" class=\"dataframe\">\n",
              "  <thead>\n",
              "    <tr style=\"text-align: right;\">\n",
              "      <th></th>\n",
              "      <th>Item_Identifier</th>\n",
              "      <th>Item_Weight</th>\n",
              "      <th>Item_Fat_Content</th>\n",
              "      <th>Item_Visibility</th>\n",
              "      <th>Item_Type</th>\n",
              "      <th>Item_MRP</th>\n",
              "      <th>Outlet_Identifier</th>\n",
              "      <th>Outlet_Establishment_Year</th>\n",
              "      <th>Outlet_Size</th>\n",
              "      <th>Outlet_Location_Type</th>\n",
              "      <th>Outlet_Type</th>\n",
              "      <th>Item_Outlet_Sales</th>\n",
              "    </tr>\n",
              "  </thead>\n",
              "  <tbody>\n",
              "    <tr>\n",
              "      <th>0</th>\n",
              "      <td>FDA15</td>\n",
              "      <td>9.30</td>\n",
              "      <td>Low Fat</td>\n",
              "      <td>0.016047</td>\n",
              "      <td>Dairy</td>\n",
              "      <td>249.8092</td>\n",
              "      <td>OUT049</td>\n",
              "      <td>1999</td>\n",
              "      <td>Medium</td>\n",
              "      <td>Tier 1</td>\n",
              "      <td>Supermarket Type1</td>\n",
              "      <td>3735.1380</td>\n",
              "    </tr>\n",
              "    <tr>\n",
              "      <th>1</th>\n",
              "      <td>DRC01</td>\n",
              "      <td>5.92</td>\n",
              "      <td>Regular</td>\n",
              "      <td>0.019278</td>\n",
              "      <td>Soft Drinks</td>\n",
              "      <td>48.2692</td>\n",
              "      <td>OUT018</td>\n",
              "      <td>2009</td>\n",
              "      <td>Medium</td>\n",
              "      <td>Tier 3</td>\n",
              "      <td>Supermarket Type2</td>\n",
              "      <td>443.4228</td>\n",
              "    </tr>\n",
              "    <tr>\n",
              "      <th>2</th>\n",
              "      <td>FDN15</td>\n",
              "      <td>17.50</td>\n",
              "      <td>Low Fat</td>\n",
              "      <td>0.016760</td>\n",
              "      <td>Meat</td>\n",
              "      <td>141.6180</td>\n",
              "      <td>OUT049</td>\n",
              "      <td>1999</td>\n",
              "      <td>Medium</td>\n",
              "      <td>Tier 1</td>\n",
              "      <td>Supermarket Type1</td>\n",
              "      <td>2097.2700</td>\n",
              "    </tr>\n",
              "    <tr>\n",
              "      <th>3</th>\n",
              "      <td>FDX07</td>\n",
              "      <td>19.20</td>\n",
              "      <td>Regular</td>\n",
              "      <td>0.000000</td>\n",
              "      <td>Fruits and Vegetables</td>\n",
              "      <td>182.0950</td>\n",
              "      <td>OUT010</td>\n",
              "      <td>1998</td>\n",
              "      <td>NaN</td>\n",
              "      <td>Tier 3</td>\n",
              "      <td>Grocery Store</td>\n",
              "      <td>732.3800</td>\n",
              "    </tr>\n",
              "    <tr>\n",
              "      <th>4</th>\n",
              "      <td>NCD19</td>\n",
              "      <td>8.93</td>\n",
              "      <td>Low Fat</td>\n",
              "      <td>0.000000</td>\n",
              "      <td>Household</td>\n",
              "      <td>53.8614</td>\n",
              "      <td>OUT013</td>\n",
              "      <td>1987</td>\n",
              "      <td>High</td>\n",
              "      <td>Tier 3</td>\n",
              "      <td>Supermarket Type1</td>\n",
              "      <td>994.7052</td>\n",
              "    </tr>\n",
              "  </tbody>\n",
              "</table>\n",
              "</div>"
            ],
            "text/plain": [
              "  Item_Identifier  Item_Weight Item_Fat_Content  Item_Visibility  \\\n",
              "0           FDA15         9.30          Low Fat         0.016047   \n",
              "1           DRC01         5.92          Regular         0.019278   \n",
              "2           FDN15        17.50          Low Fat         0.016760   \n",
              "3           FDX07        19.20          Regular         0.000000   \n",
              "4           NCD19         8.93          Low Fat         0.000000   \n",
              "\n",
              "               Item_Type  Item_MRP Outlet_Identifier  \\\n",
              "0                  Dairy  249.8092            OUT049   \n",
              "1            Soft Drinks   48.2692            OUT018   \n",
              "2                   Meat  141.6180            OUT049   \n",
              "3  Fruits and Vegetables  182.0950            OUT010   \n",
              "4              Household   53.8614            OUT013   \n",
              "\n",
              "   Outlet_Establishment_Year Outlet_Size Outlet_Location_Type  \\\n",
              "0                       1999      Medium               Tier 1   \n",
              "1                       2009      Medium               Tier 3   \n",
              "2                       1999      Medium               Tier 1   \n",
              "3                       1998         NaN               Tier 3   \n",
              "4                       1987        High               Tier 3   \n",
              "\n",
              "         Outlet_Type  Item_Outlet_Sales  \n",
              "0  Supermarket Type1          3735.1380  \n",
              "1  Supermarket Type2           443.4228  \n",
              "2  Supermarket Type1          2097.2700  \n",
              "3      Grocery Store           732.3800  \n",
              "4  Supermarket Type1           994.7052  "
            ]
          },
          "execution_count": 78,
          "metadata": {},
          "output_type": "execute_result"
        }
      ],
      "source": [
        "# looking at the first five rows of the train data\n",
        "df_train.head()"
      ]
    },
    {
      "cell_type": "code",
      "execution_count": 79,
      "metadata": {
        "colab": {
          "base_uri": "https://localhost:8080/",
          "height": 34
        },
        "colab_type": "code",
        "id": "mX37vC7LgURN",
        "outputId": "5de59ce4-e7d0-4f25-9e0b-e3f668807e53",
        "scrolled": false
      },
      "outputs": [
        {
          "data": {
            "text/plain": [
              "(8523, 12)"
            ]
          },
          "execution_count": 79,
          "metadata": {},
          "output_type": "execute_result"
        }
      ],
      "source": [
        "# shape of the train data\n",
        "df_train.shape"
      ]
    },
    {
      "cell_type": "code",
      "execution_count": 80,
      "metadata": {
        "colab": {
          "base_uri": "https://localhost:8080/",
          "height": 260
        },
        "colab_type": "code",
        "id": "FpY683r0gURY",
        "outputId": "48ba24ef-fb89-4f6d-a1c2-9c08e5c0a73d"
      },
      "outputs": [
        {
          "data": {
            "text/plain": [
              "Item_Identifier                 0\n",
              "Item_Weight                  1463\n",
              "Item_Fat_Content                0\n",
              "Item_Visibility                 0\n",
              "Item_Type                       0\n",
              "Item_MRP                        0\n",
              "Outlet_Identifier               0\n",
              "Outlet_Establishment_Year       0\n",
              "Outlet_Size                  2410\n",
              "Outlet_Location_Type            0\n",
              "Outlet_Type                     0\n",
              "Item_Outlet_Sales               0\n",
              "dtype: int64"
            ]
          },
          "execution_count": 80,
          "metadata": {},
          "output_type": "execute_result"
        }
      ],
      "source": [
        "# checking missing values in the train data\n",
        "df_train.isnull().sum()"
      ]
    },
    {
      "cell_type": "code",
      "execution_count": 81,
      "metadata": {
        "colab": {
          "base_uri": "https://localhost:8080/",
          "height": 260
        },
        "colab_type": "code",
        "id": "WoAqN1FIgURj",
        "outputId": "0e4d25b1-2cae-4c2e-ee11-d88dcbe27688",
        "scrolled": true
      },
      "outputs": [
        {
          "data": {
            "text/plain": [
              "Item_Identifier               object\n",
              "Item_Weight                  float64\n",
              "Item_Fat_Content              object\n",
              "Item_Visibility              float64\n",
              "Item_Type                     object\n",
              "Item_MRP                     float64\n",
              "Outlet_Identifier             object\n",
              "Outlet_Establishment_Year      int64\n",
              "Outlet_Size                   object\n",
              "Outlet_Location_Type          object\n",
              "Outlet_Type                   object\n",
              "Item_Outlet_Sales            float64\n",
              "dtype: object"
            ]
          },
          "execution_count": 81,
          "metadata": {},
          "output_type": "execute_result"
        }
      ],
      "source": [
        "# data types of the variables\n",
        "df_train.dtypes"
      ]
    },
    {
      "cell_type": "code",
      "execution_count": 82,
      "metadata": {},
      "outputs": [
        {
          "data": {
            "text/html": [
              "<div>\n",
              "<style scoped>\n",
              "    .dataframe tbody tr th:only-of-type {\n",
              "        vertical-align: middle;\n",
              "    }\n",
              "\n",
              "    .dataframe tbody tr th {\n",
              "        vertical-align: top;\n",
              "    }\n",
              "\n",
              "    .dataframe thead th {\n",
              "        text-align: right;\n",
              "    }\n",
              "</style>\n",
              "<table border=\"1\" class=\"dataframe\">\n",
              "  <thead>\n",
              "    <tr style=\"text-align: right;\">\n",
              "      <th></th>\n",
              "      <th>Item_Identifier</th>\n",
              "      <th>Item_Weight</th>\n",
              "      <th>Item_Fat_Content</th>\n",
              "      <th>Item_Visibility</th>\n",
              "      <th>Item_Type</th>\n",
              "      <th>Item_MRP</th>\n",
              "      <th>Outlet_Identifier</th>\n",
              "      <th>Outlet_Establishment_Year</th>\n",
              "      <th>Outlet_Size</th>\n",
              "      <th>Outlet_Location_Type</th>\n",
              "      <th>Outlet_Type</th>\n",
              "    </tr>\n",
              "  </thead>\n",
              "  <tbody>\n",
              "    <tr>\n",
              "      <th>0</th>\n",
              "      <td>FDW58</td>\n",
              "      <td>20.750</td>\n",
              "      <td>Low Fat</td>\n",
              "      <td>0.007565</td>\n",
              "      <td>Snack Foods</td>\n",
              "      <td>107.8622</td>\n",
              "      <td>OUT049</td>\n",
              "      <td>1999</td>\n",
              "      <td>Medium</td>\n",
              "      <td>Tier 1</td>\n",
              "      <td>Supermarket Type1</td>\n",
              "    </tr>\n",
              "    <tr>\n",
              "      <th>1</th>\n",
              "      <td>FDW14</td>\n",
              "      <td>8.300</td>\n",
              "      <td>reg</td>\n",
              "      <td>0.038428</td>\n",
              "      <td>Dairy</td>\n",
              "      <td>87.3198</td>\n",
              "      <td>OUT017</td>\n",
              "      <td>2007</td>\n",
              "      <td>NaN</td>\n",
              "      <td>Tier 2</td>\n",
              "      <td>Supermarket Type1</td>\n",
              "    </tr>\n",
              "    <tr>\n",
              "      <th>2</th>\n",
              "      <td>NCN55</td>\n",
              "      <td>14.600</td>\n",
              "      <td>Low Fat</td>\n",
              "      <td>0.099575</td>\n",
              "      <td>Others</td>\n",
              "      <td>241.7538</td>\n",
              "      <td>OUT010</td>\n",
              "      <td>1998</td>\n",
              "      <td>NaN</td>\n",
              "      <td>Tier 3</td>\n",
              "      <td>Grocery Store</td>\n",
              "    </tr>\n",
              "    <tr>\n",
              "      <th>3</th>\n",
              "      <td>FDQ58</td>\n",
              "      <td>7.315</td>\n",
              "      <td>Low Fat</td>\n",
              "      <td>0.015388</td>\n",
              "      <td>Snack Foods</td>\n",
              "      <td>155.0340</td>\n",
              "      <td>OUT017</td>\n",
              "      <td>2007</td>\n",
              "      <td>NaN</td>\n",
              "      <td>Tier 2</td>\n",
              "      <td>Supermarket Type1</td>\n",
              "    </tr>\n",
              "    <tr>\n",
              "      <th>4</th>\n",
              "      <td>FDY38</td>\n",
              "      <td>NaN</td>\n",
              "      <td>Regular</td>\n",
              "      <td>0.118599</td>\n",
              "      <td>Dairy</td>\n",
              "      <td>234.2300</td>\n",
              "      <td>OUT027</td>\n",
              "      <td>1985</td>\n",
              "      <td>Medium</td>\n",
              "      <td>Tier 3</td>\n",
              "      <td>Supermarket Type3</td>\n",
              "    </tr>\n",
              "  </tbody>\n",
              "</table>\n",
              "</div>"
            ],
            "text/plain": [
              "  Item_Identifier  Item_Weight Item_Fat_Content  Item_Visibility    Item_Type  \\\n",
              "0           FDW58       20.750          Low Fat         0.007565  Snack Foods   \n",
              "1           FDW14        8.300              reg         0.038428        Dairy   \n",
              "2           NCN55       14.600          Low Fat         0.099575       Others   \n",
              "3           FDQ58        7.315          Low Fat         0.015388  Snack Foods   \n",
              "4           FDY38          NaN          Regular         0.118599        Dairy   \n",
              "\n",
              "   Item_MRP Outlet_Identifier  Outlet_Establishment_Year Outlet_Size  \\\n",
              "0  107.8622            OUT049                       1999      Medium   \n",
              "1   87.3198            OUT017                       2007         NaN   \n",
              "2  241.7538            OUT010                       1998         NaN   \n",
              "3  155.0340            OUT017                       2007         NaN   \n",
              "4  234.2300            OUT027                       1985      Medium   \n",
              "\n",
              "  Outlet_Location_Type        Outlet_Type  \n",
              "0               Tier 1  Supermarket Type1  \n",
              "1               Tier 2  Supermarket Type1  \n",
              "2               Tier 3      Grocery Store  \n",
              "3               Tier 2  Supermarket Type1  \n",
              "4               Tier 3  Supermarket Type3  "
            ]
          },
          "execution_count": 82,
          "metadata": {},
          "output_type": "execute_result"
        }
      ],
      "source": [
        "# looking at the first five rows of the test data\n",
        "df_test.head()"
      ]
    },
    {
      "cell_type": "code",
      "execution_count": 83,
      "metadata": {},
      "outputs": [
        {
          "data": {
            "text/plain": [
              "(5681, 11)"
            ]
          },
          "execution_count": 83,
          "metadata": {},
          "output_type": "execute_result"
        }
      ],
      "source": [
        "# shape of the test data\n",
        "df_test.shape"
      ]
    },
    {
      "cell_type": "code",
      "execution_count": 84,
      "metadata": {},
      "outputs": [
        {
          "data": {
            "text/plain": [
              "Item_Identifier                 0\n",
              "Item_Weight                   976\n",
              "Item_Fat_Content                0\n",
              "Item_Visibility                 0\n",
              "Item_Type                       0\n",
              "Item_MRP                        0\n",
              "Outlet_Identifier               0\n",
              "Outlet_Establishment_Year       0\n",
              "Outlet_Size                  1606\n",
              "Outlet_Location_Type            0\n",
              "Outlet_Type                     0\n",
              "dtype: int64"
            ]
          },
          "execution_count": 84,
          "metadata": {},
          "output_type": "execute_result"
        }
      ],
      "source": [
        "# checking missing values in the test data\n",
        "df_test.isnull().sum()"
      ]
    },
    {
      "cell_type": "code",
      "execution_count": 85,
      "metadata": {},
      "outputs": [
        {
          "data": {
            "text/plain": [
              "Item_Identifier               object\n",
              "Item_Weight                  float64\n",
              "Item_Fat_Content              object\n",
              "Item_Visibility              float64\n",
              "Item_Type                     object\n",
              "Item_MRP                     float64\n",
              "Outlet_Identifier             object\n",
              "Outlet_Establishment_Year      int64\n",
              "Outlet_Size                   object\n",
              "Outlet_Location_Type          object\n",
              "Outlet_Type                   object\n",
              "dtype: object"
            ]
          },
          "execution_count": 85,
          "metadata": {},
          "output_type": "execute_result"
        }
      ],
      "source": [
        "# data types of the variables\n",
        "df_test.dtypes"
      ]
    },
    {
      "attachments": {},
      "cell_type": "markdown",
      "metadata": {
        "colab_type": "text",
        "id": "grhWzIVQgURr"
      },
      "source": [
        "## 1. Filling the missing values"
      ]
    },
    {
      "attachments": {},
      "cell_type": "markdown",
      "metadata": {
        "colab_type": "text",
        "id": "beUijuXWgURs"
      },
      "source": [
        "### Categorical Data: Mode"
      ]
    },
    {
      "cell_type": "code",
      "execution_count": 86,
      "metadata": {
        "colab": {},
        "colab_type": "code",
        "id": "XWTgHdRQgURw"
      },
      "outputs": [],
      "source": [
        "# filling missing values of categorical variables with mode in train data\n",
        "\n",
        "df_train['Outlet_Size'].fillna(df_train['Outlet_Size'].mode()[0], inplace=True)\n",
        "\n",
        "# filling missing values of categorical variables with mode in test data\n",
        "\n",
        "df_test['Outlet_Size'].fillna(df_test['Outlet_Size'].mode()[0], inplace=True)"
      ]
    },
    {
      "attachments": {},
      "cell_type": "markdown",
      "metadata": {
        "colab_type": "text",
        "id": "XO36J4FRgUR5"
      },
      "source": [
        "### Continuous Data: Mean"
      ]
    },
    {
      "cell_type": "code",
      "execution_count": 87,
      "metadata": {
        "colab": {},
        "colab_type": "code",
        "id": "Eq72VAhCgUR9"
      },
      "outputs": [],
      "source": [
        "# filling missing values of continuous variables with mean in train data\n",
        "df_train['Item_Weight'].fillna(df_train['Item_Weight'].mean(), inplace=True)\n",
        "\n",
        "# filling missing values of continuous variables with mean in test data\n",
        "df_test['Item_Weight'].fillna(df_test['Item_Weight'].mean(), inplace=True)"
      ]
    },
    {
      "cell_type": "code",
      "execution_count": 88,
      "metadata": {
        "colab": {
          "base_uri": "https://localhost:8080/",
          "height": 260
        },
        "colab_type": "code",
        "id": "aTwMX3f5gUSF",
        "outputId": "67d696da-cc20-476b-86f9-6ca4a0031e9d",
        "scrolled": true
      },
      "outputs": [
        {
          "data": {
            "text/plain": [
              "Item_Identifier              0\n",
              "Item_Weight                  0\n",
              "Item_Fat_Content             0\n",
              "Item_Visibility              0\n",
              "Item_Type                    0\n",
              "Item_MRP                     0\n",
              "Outlet_Identifier            0\n",
              "Outlet_Establishment_Year    0\n",
              "Outlet_Size                  0\n",
              "Outlet_Location_Type         0\n",
              "Outlet_Type                  0\n",
              "Item_Outlet_Sales            0\n",
              "dtype: int64"
            ]
          },
          "execution_count": 88,
          "metadata": {},
          "output_type": "execute_result"
        }
      ],
      "source": [
        "# checking missing values after imputation in train data\n",
        "df_train.isnull().sum()"
      ]
    },
    {
      "cell_type": "code",
      "execution_count": 89,
      "metadata": {},
      "outputs": [
        {
          "data": {
            "text/plain": [
              "Item_Identifier              0\n",
              "Item_Weight                  0\n",
              "Item_Fat_Content             0\n",
              "Item_Visibility              0\n",
              "Item_Type                    0\n",
              "Item_MRP                     0\n",
              "Outlet_Identifier            0\n",
              "Outlet_Establishment_Year    0\n",
              "Outlet_Size                  0\n",
              "Outlet_Location_Type         0\n",
              "Outlet_Type                  0\n",
              "dtype: int64"
            ]
          },
          "execution_count": 89,
          "metadata": {},
          "output_type": "execute_result"
        }
      ],
      "source": [
        "# checking missing values after imputation in test data\n",
        "df_test.isnull().sum()"
      ]
    },
    {
      "attachments": {},
      "cell_type": "markdown",
      "metadata": {
        "colab_type": "text",
        "id": "k_SP_5W9gUSN"
      },
      "source": [
        "## 2. Converting categories to numbers"
      ]
    },
    {
      "cell_type": "code",
      "execution_count": 90,
      "metadata": {},
      "outputs": [],
      "source": [
        "# Let us import label encoder\n",
        "from sklearn.preprocessing import LabelEncoder\n",
        "label_encoder = LabelEncoder()"
      ]
    },
    {
      "cell_type": "code",
      "execution_count": 91,
      "metadata": {},
      "outputs": [
        {
          "data": {
            "text/plain": [
              "FD    4076\n",
              "NC    1087\n",
              "DR     518\n",
              "Name: Item_Identifier_Initial, dtype: int64"
            ]
          },
          "execution_count": 91,
          "metadata": {},
          "output_type": "execute_result"
        }
      ],
      "source": [
        "# Let's create a column Item_Identifier_Initial from Item_Identifier column and drop Item_Identifier\n",
        "df_train['Item_Identifier_Initial'] = df_train.Item_Identifier.str[:2]\n",
        "df_train.drop(columns=['Item_Identifier'], inplace=True)\n",
        "df_train['Item_Identifier_Initial'].value_counts()\n",
        "\n",
        "df_test['Item_Identifier_Initial'] = df_test.Item_Identifier.str[:2]\n",
        "df_test.drop(columns=['Item_Identifier'], inplace=True)\n",
        "df_test['Item_Identifier_Initial'].value_counts()"
      ]
    },
    {
      "cell_type": "code",
      "execution_count": 92,
      "metadata": {
        "colab": {},
        "colab_type": "code",
        "id": "ultMrSJqgUSS"
      },
      "outputs": [],
      "source": [
        "# converting the categories into numbers using label encoder in train data\n",
        "df_train['Item_Fat_Content'] = label_encoder.fit_transform(df_train['Item_Fat_Content'])\n",
        "df_train['Item_Type'] = label_encoder.fit_transform(df_train['Item_Type'])\n",
        "df_train['Outlet_Identifier'] = label_encoder.fit_transform(df_train['Outlet_Identifier'])\n",
        "df_train['Outlet_Size'] = label_encoder.fit_transform(df_train['Outlet_Size'])\n",
        "df_train['Outlet_Location_Type'] = label_encoder.fit_transform(df_train['Outlet_Location_Type'])\n",
        "df_train['Outlet_Type'] = label_encoder.fit_transform(df_train['Outlet_Type'])\n",
        "df_train['Item_Identifier_Initial'] = label_encoder.fit_transform(df_train['Item_Identifier_Initial'])"
      ]
    },
    {
      "cell_type": "code",
      "execution_count": 93,
      "metadata": {
        "colab": {
          "base_uri": "https://localhost:8080/",
          "height": 243
        },
        "colab_type": "code",
        "id": "kiMBtzIO9DCQ",
        "outputId": "27d86f1e-0a70-4349-bd3c-15c897649fea"
      },
      "outputs": [
        {
          "data": {
            "text/html": [
              "<div>\n",
              "<style scoped>\n",
              "    .dataframe tbody tr th:only-of-type {\n",
              "        vertical-align: middle;\n",
              "    }\n",
              "\n",
              "    .dataframe tbody tr th {\n",
              "        vertical-align: top;\n",
              "    }\n",
              "\n",
              "    .dataframe thead th {\n",
              "        text-align: right;\n",
              "    }\n",
              "</style>\n",
              "<table border=\"1\" class=\"dataframe\">\n",
              "  <thead>\n",
              "    <tr style=\"text-align: right;\">\n",
              "      <th></th>\n",
              "      <th>Item_Weight</th>\n",
              "      <th>Item_Fat_Content</th>\n",
              "      <th>Item_Visibility</th>\n",
              "      <th>Item_Type</th>\n",
              "      <th>Item_MRP</th>\n",
              "      <th>Outlet_Identifier</th>\n",
              "      <th>Outlet_Establishment_Year</th>\n",
              "      <th>Outlet_Size</th>\n",
              "      <th>Outlet_Location_Type</th>\n",
              "      <th>Outlet_Type</th>\n",
              "      <th>Item_Outlet_Sales</th>\n",
              "      <th>Item_Identifier_Initial</th>\n",
              "    </tr>\n",
              "  </thead>\n",
              "  <tbody>\n",
              "    <tr>\n",
              "      <th>0</th>\n",
              "      <td>9.30</td>\n",
              "      <td>1</td>\n",
              "      <td>0.016047</td>\n",
              "      <td>4</td>\n",
              "      <td>249.8092</td>\n",
              "      <td>9</td>\n",
              "      <td>1999</td>\n",
              "      <td>1</td>\n",
              "      <td>0</td>\n",
              "      <td>1</td>\n",
              "      <td>3735.1380</td>\n",
              "      <td>1</td>\n",
              "    </tr>\n",
              "    <tr>\n",
              "      <th>1</th>\n",
              "      <td>5.92</td>\n",
              "      <td>2</td>\n",
              "      <td>0.019278</td>\n",
              "      <td>14</td>\n",
              "      <td>48.2692</td>\n",
              "      <td>3</td>\n",
              "      <td>2009</td>\n",
              "      <td>1</td>\n",
              "      <td>2</td>\n",
              "      <td>2</td>\n",
              "      <td>443.4228</td>\n",
              "      <td>0</td>\n",
              "    </tr>\n",
              "    <tr>\n",
              "      <th>2</th>\n",
              "      <td>17.50</td>\n",
              "      <td>1</td>\n",
              "      <td>0.016760</td>\n",
              "      <td>10</td>\n",
              "      <td>141.6180</td>\n",
              "      <td>9</td>\n",
              "      <td>1999</td>\n",
              "      <td>1</td>\n",
              "      <td>0</td>\n",
              "      <td>1</td>\n",
              "      <td>2097.2700</td>\n",
              "      <td>1</td>\n",
              "    </tr>\n",
              "    <tr>\n",
              "      <th>3</th>\n",
              "      <td>19.20</td>\n",
              "      <td>2</td>\n",
              "      <td>0.000000</td>\n",
              "      <td>6</td>\n",
              "      <td>182.0950</td>\n",
              "      <td>0</td>\n",
              "      <td>1998</td>\n",
              "      <td>1</td>\n",
              "      <td>2</td>\n",
              "      <td>0</td>\n",
              "      <td>732.3800</td>\n",
              "      <td>1</td>\n",
              "    </tr>\n",
              "    <tr>\n",
              "      <th>4</th>\n",
              "      <td>8.93</td>\n",
              "      <td>1</td>\n",
              "      <td>0.000000</td>\n",
              "      <td>9</td>\n",
              "      <td>53.8614</td>\n",
              "      <td>1</td>\n",
              "      <td>1987</td>\n",
              "      <td>0</td>\n",
              "      <td>2</td>\n",
              "      <td>1</td>\n",
              "      <td>994.7052</td>\n",
              "      <td>2</td>\n",
              "    </tr>\n",
              "  </tbody>\n",
              "</table>\n",
              "</div>"
            ],
            "text/plain": [
              "   Item_Weight  Item_Fat_Content  Item_Visibility  Item_Type  Item_MRP  \\\n",
              "0         9.30                 1         0.016047          4  249.8092   \n",
              "1         5.92                 2         0.019278         14   48.2692   \n",
              "2        17.50                 1         0.016760         10  141.6180   \n",
              "3        19.20                 2         0.000000          6  182.0950   \n",
              "4         8.93                 1         0.000000          9   53.8614   \n",
              "\n",
              "   Outlet_Identifier  Outlet_Establishment_Year  Outlet_Size  \\\n",
              "0                  9                       1999            1   \n",
              "1                  3                       2009            1   \n",
              "2                  9                       1999            1   \n",
              "3                  0                       1998            1   \n",
              "4                  1                       1987            0   \n",
              "\n",
              "   Outlet_Location_Type  Outlet_Type  Item_Outlet_Sales  \\\n",
              "0                     0            1          3735.1380   \n",
              "1                     2            2           443.4228   \n",
              "2                     0            1          2097.2700   \n",
              "3                     2            0           732.3800   \n",
              "4                     2            1           994.7052   \n",
              "\n",
              "   Item_Identifier_Initial  \n",
              "0                        1  \n",
              "1                        0  \n",
              "2                        1  \n",
              "3                        1  \n",
              "4                        2  "
            ]
          },
          "execution_count": 93,
          "metadata": {},
          "output_type": "execute_result"
        }
      ],
      "source": [
        "df_train.head()"
      ]
    },
    {
      "cell_type": "code",
      "execution_count": 94,
      "metadata": {},
      "outputs": [],
      "source": [
        "# converting the categories into numbers using label encoder in test data\n",
        "df_test['Item_Fat_Content'] = label_encoder.fit_transform(df_test['Item_Fat_Content'])\n",
        "df_test['Item_Type'] = label_encoder.fit_transform(df_test['Item_Type'])\n",
        "df_test['Outlet_Identifier'] = label_encoder.fit_transform(df_test['Outlet_Identifier'])\n",
        "df_test['Outlet_Size'] = label_encoder.fit_transform(df_test['Outlet_Size'])\n",
        "df_test['Outlet_Location_Type'] = label_encoder.fit_transform(df_test['Outlet_Location_Type'])\n",
        "df_test['Outlet_Type'] = label_encoder.fit_transform(df_test['Outlet_Type'])\n",
        "df_test['Item_Identifier_Initial'] = label_encoder.fit_transform(df_test['Item_Identifier_Initial'])"
      ]
    },
    {
      "attachments": {},
      "cell_type": "markdown",
      "metadata": {
        "colab_type": "text",
        "id": "gdBmXyyVgUSY"
      },
      "source": [
        "## 3. Bringing all the variables in range 0 to 1"
      ]
    },
    {
      "attachments": {},
      "cell_type": "markdown",
      "metadata": {
        "colab_type": "text",
        "id": "2ObzQqyYgUSc"
      },
      "source": [
        "<img src='https://drive.google.com/uc?id=1Z7wN2BE8CDSYIJly5l0K9uqYdj9WUo3f'>"
      ]
    },
    {
      "cell_type": "code",
      "execution_count": 95,
      "metadata": {
        "colab": {},
        "colab_type": "code",
        "id": "i_dy8JGZgUSm"
      },
      "outputs": [],
      "source": [
        "# applying for loop to bring all the variables in range 0 to 1\n",
        "for i in df_train.columns:\n",
        "    if i == 'Item_Outlet_Sales':\n",
        "        continue\n",
        "    df_train[i] = (df_train[i] - df_train[i].min()) / (df_train[i].max() - df_train[i].min())\n",
        "\n",
        "for i in df_test.columns:\n",
        "    df_test[i] = (df_test[i] - df_test[i].min()) / (df_test[i].max() - df_test[i].min())"
      ]
    },
    {
      "cell_type": "code",
      "execution_count": 96,
      "metadata": {
        "colab": {
          "base_uri": "https://localhost:8080/",
          "height": 226
        },
        "colab_type": "code",
        "id": "t2VOS3SdgUSt",
        "outputId": "7050eb2c-8931-44fe-cd3d-e48a9be21fd6"
      },
      "outputs": [
        {
          "data": {
            "text/html": [
              "<div>\n",
              "<style scoped>\n",
              "    .dataframe tbody tr th:only-of-type {\n",
              "        vertical-align: middle;\n",
              "    }\n",
              "\n",
              "    .dataframe tbody tr th {\n",
              "        vertical-align: top;\n",
              "    }\n",
              "\n",
              "    .dataframe thead th {\n",
              "        text-align: right;\n",
              "    }\n",
              "</style>\n",
              "<table border=\"1\" class=\"dataframe\">\n",
              "  <thead>\n",
              "    <tr style=\"text-align: right;\">\n",
              "      <th></th>\n",
              "      <th>Item_Weight</th>\n",
              "      <th>Item_Fat_Content</th>\n",
              "      <th>Item_Visibility</th>\n",
              "      <th>Item_Type</th>\n",
              "      <th>Item_MRP</th>\n",
              "      <th>Outlet_Identifier</th>\n",
              "      <th>Outlet_Establishment_Year</th>\n",
              "      <th>Outlet_Size</th>\n",
              "      <th>Outlet_Location_Type</th>\n",
              "      <th>Outlet_Type</th>\n",
              "      <th>Item_Outlet_Sales</th>\n",
              "      <th>Item_Identifier_Initial</th>\n",
              "    </tr>\n",
              "  </thead>\n",
              "  <tbody>\n",
              "    <tr>\n",
              "      <th>0</th>\n",
              "      <td>0.282525</td>\n",
              "      <td>0.25</td>\n",
              "      <td>0.048866</td>\n",
              "      <td>0.266667</td>\n",
              "      <td>0.927507</td>\n",
              "      <td>1.000000</td>\n",
              "      <td>0.583333</td>\n",
              "      <td>0.5</td>\n",
              "      <td>0.0</td>\n",
              "      <td>0.333333</td>\n",
              "      <td>3735.1380</td>\n",
              "      <td>0.5</td>\n",
              "    </tr>\n",
              "    <tr>\n",
              "      <th>1</th>\n",
              "      <td>0.081274</td>\n",
              "      <td>0.50</td>\n",
              "      <td>0.058705</td>\n",
              "      <td>0.933333</td>\n",
              "      <td>0.072068</td>\n",
              "      <td>0.333333</td>\n",
              "      <td>1.000000</td>\n",
              "      <td>0.5</td>\n",
              "      <td>1.0</td>\n",
              "      <td>0.666667</td>\n",
              "      <td>443.4228</td>\n",
              "      <td>0.0</td>\n",
              "    </tr>\n",
              "    <tr>\n",
              "      <th>2</th>\n",
              "      <td>0.770765</td>\n",
              "      <td>0.25</td>\n",
              "      <td>0.051037</td>\n",
              "      <td>0.666667</td>\n",
              "      <td>0.468288</td>\n",
              "      <td>1.000000</td>\n",
              "      <td>0.583333</td>\n",
              "      <td>0.5</td>\n",
              "      <td>0.0</td>\n",
              "      <td>0.333333</td>\n",
              "      <td>2097.2700</td>\n",
              "      <td>0.5</td>\n",
              "    </tr>\n",
              "    <tr>\n",
              "      <th>3</th>\n",
              "      <td>0.871986</td>\n",
              "      <td>0.50</td>\n",
              "      <td>0.000000</td>\n",
              "      <td>0.400000</td>\n",
              "      <td>0.640093</td>\n",
              "      <td>0.000000</td>\n",
              "      <td>0.541667</td>\n",
              "      <td>0.5</td>\n",
              "      <td>1.0</td>\n",
              "      <td>0.000000</td>\n",
              "      <td>732.3800</td>\n",
              "      <td>0.5</td>\n",
              "    </tr>\n",
              "    <tr>\n",
              "      <th>4</th>\n",
              "      <td>0.260494</td>\n",
              "      <td>0.25</td>\n",
              "      <td>0.000000</td>\n",
              "      <td>0.600000</td>\n",
              "      <td>0.095805</td>\n",
              "      <td>0.111111</td>\n",
              "      <td>0.083333</td>\n",
              "      <td>0.0</td>\n",
              "      <td>1.0</td>\n",
              "      <td>0.333333</td>\n",
              "      <td>994.7052</td>\n",
              "      <td>1.0</td>\n",
              "    </tr>\n",
              "  </tbody>\n",
              "</table>\n",
              "</div>"
            ],
            "text/plain": [
              "   Item_Weight  Item_Fat_Content  Item_Visibility  Item_Type  Item_MRP  \\\n",
              "0     0.282525              0.25         0.048866   0.266667  0.927507   \n",
              "1     0.081274              0.50         0.058705   0.933333  0.072068   \n",
              "2     0.770765              0.25         0.051037   0.666667  0.468288   \n",
              "3     0.871986              0.50         0.000000   0.400000  0.640093   \n",
              "4     0.260494              0.25         0.000000   0.600000  0.095805   \n",
              "\n",
              "   Outlet_Identifier  Outlet_Establishment_Year  Outlet_Size  \\\n",
              "0           1.000000                   0.583333          0.5   \n",
              "1           0.333333                   1.000000          0.5   \n",
              "2           1.000000                   0.583333          0.5   \n",
              "3           0.000000                   0.541667          0.5   \n",
              "4           0.111111                   0.083333          0.0   \n",
              "\n",
              "   Outlet_Location_Type  Outlet_Type  Item_Outlet_Sales  \\\n",
              "0                   0.0     0.333333          3735.1380   \n",
              "1                   1.0     0.666667           443.4228   \n",
              "2                   0.0     0.333333          2097.2700   \n",
              "3                   1.0     0.000000           732.3800   \n",
              "4                   1.0     0.333333           994.7052   \n",
              "\n",
              "   Item_Identifier_Initial  \n",
              "0                      0.5  \n",
              "1                      0.0  \n",
              "2                      0.5  \n",
              "3                      0.5  \n",
              "4                      1.0  "
            ]
          },
          "execution_count": 96,
          "metadata": {},
          "output_type": "execute_result"
        }
      ],
      "source": [
        "# again looking at first five rows of pre-processed train data\n",
        "df_train.head()"
      ]
    },
    {
      "cell_type": "code",
      "execution_count": 143,
      "metadata": {},
      "outputs": [
        {
          "data": {
            "text/plain": [
              "(33.29, 13086.9648)"
            ]
          },
          "execution_count": 143,
          "metadata": {},
          "output_type": "execute_result"
        }
      ],
      "source": [
        "df_train.Item_Outlet_Sales.min(), df_train.Item_Outlet_Sales.max()"
      ]
    },
    {
      "cell_type": "code",
      "execution_count": 97,
      "metadata": {},
      "outputs": [
        {
          "data": {
            "text/html": [
              "<div>\n",
              "<style scoped>\n",
              "    .dataframe tbody tr th:only-of-type {\n",
              "        vertical-align: middle;\n",
              "    }\n",
              "\n",
              "    .dataframe tbody tr th {\n",
              "        vertical-align: top;\n",
              "    }\n",
              "\n",
              "    .dataframe thead th {\n",
              "        text-align: right;\n",
              "    }\n",
              "</style>\n",
              "<table border=\"1\" class=\"dataframe\">\n",
              "  <thead>\n",
              "    <tr style=\"text-align: right;\">\n",
              "      <th></th>\n",
              "      <th>Item_Weight</th>\n",
              "      <th>Item_Fat_Content</th>\n",
              "      <th>Item_Visibility</th>\n",
              "      <th>Item_Type</th>\n",
              "      <th>Item_MRP</th>\n",
              "      <th>Outlet_Identifier</th>\n",
              "      <th>Outlet_Establishment_Year</th>\n",
              "      <th>Outlet_Size</th>\n",
              "      <th>Outlet_Location_Type</th>\n",
              "      <th>Outlet_Type</th>\n",
              "      <th>Item_Identifier_Initial</th>\n",
              "    </tr>\n",
              "  </thead>\n",
              "  <tbody>\n",
              "    <tr>\n",
              "      <th>0</th>\n",
              "      <td>0.964275</td>\n",
              "      <td>0.25</td>\n",
              "      <td>0.023374</td>\n",
              "      <td>0.866667</td>\n",
              "      <td>0.323413</td>\n",
              "      <td>1.000000</td>\n",
              "      <td>0.583333</td>\n",
              "      <td>0.5</td>\n",
              "      <td>0.0</td>\n",
              "      <td>0.333333</td>\n",
              "      <td>0.5</td>\n",
              "    </tr>\n",
              "    <tr>\n",
              "      <th>1</th>\n",
              "      <td>0.222983</td>\n",
              "      <td>1.00</td>\n",
              "      <td>0.118737</td>\n",
              "      <td>0.266667</td>\n",
              "      <td>0.235849</td>\n",
              "      <td>0.222222</td>\n",
              "      <td>0.916667</td>\n",
              "      <td>0.5</td>\n",
              "      <td>0.5</td>\n",
              "      <td>0.333333</td>\n",
              "      <td>0.5</td>\n",
              "    </tr>\n",
              "    <tr>\n",
              "      <th>2</th>\n",
              "      <td>0.598095</td>\n",
              "      <td>0.25</td>\n",
              "      <td>0.307674</td>\n",
              "      <td>0.733333</td>\n",
              "      <td>0.894140</td>\n",
              "      <td>0.000000</td>\n",
              "      <td>0.541667</td>\n",
              "      <td>0.5</td>\n",
              "      <td>1.0</td>\n",
              "      <td>0.000000</td>\n",
              "      <td>1.0</td>\n",
              "    </tr>\n",
              "    <tr>\n",
              "      <th>3</th>\n",
              "      <td>0.164335</td>\n",
              "      <td>0.25</td>\n",
              "      <td>0.047548</td>\n",
              "      <td>0.866667</td>\n",
              "      <td>0.524488</td>\n",
              "      <td>0.222222</td>\n",
              "      <td>0.916667</td>\n",
              "      <td>0.5</td>\n",
              "      <td>0.5</td>\n",
              "      <td>0.333333</td>\n",
              "      <td>0.5</td>\n",
              "    </tr>\n",
              "    <tr>\n",
              "      <th>4</th>\n",
              "      <td>0.484706</td>\n",
              "      <td>0.50</td>\n",
              "      <td>0.366458</td>\n",
              "      <td>0.266667</td>\n",
              "      <td>0.862069</td>\n",
              "      <td>0.555556</td>\n",
              "      <td>0.000000</td>\n",
              "      <td>0.5</td>\n",
              "      <td>1.0</td>\n",
              "      <td>1.000000</td>\n",
              "      <td>0.5</td>\n",
              "    </tr>\n",
              "  </tbody>\n",
              "</table>\n",
              "</div>"
            ],
            "text/plain": [
              "   Item_Weight  Item_Fat_Content  Item_Visibility  Item_Type  Item_MRP  \\\n",
              "0     0.964275              0.25         0.023374   0.866667  0.323413   \n",
              "1     0.222983              1.00         0.118737   0.266667  0.235849   \n",
              "2     0.598095              0.25         0.307674   0.733333  0.894140   \n",
              "3     0.164335              0.25         0.047548   0.866667  0.524488   \n",
              "4     0.484706              0.50         0.366458   0.266667  0.862069   \n",
              "\n",
              "   Outlet_Identifier  Outlet_Establishment_Year  Outlet_Size  \\\n",
              "0           1.000000                   0.583333          0.5   \n",
              "1           0.222222                   0.916667          0.5   \n",
              "2           0.000000                   0.541667          0.5   \n",
              "3           0.222222                   0.916667          0.5   \n",
              "4           0.555556                   0.000000          0.5   \n",
              "\n",
              "   Outlet_Location_Type  Outlet_Type  Item_Identifier_Initial  \n",
              "0                   0.0     0.333333                      0.5  \n",
              "1                   0.5     0.333333                      0.5  \n",
              "2                   1.0     0.000000                      1.0  \n",
              "3                   0.5     0.333333                      0.5  \n",
              "4                   1.0     1.000000                      0.5  "
            ]
          },
          "execution_count": 97,
          "metadata": {},
          "output_type": "execute_result"
        }
      ],
      "source": [
        "# again looking at first five rows of pre-processed test data\n",
        "df_test.head()"
      ]
    },
    {
      "cell_type": "code",
      "execution_count": 98,
      "metadata": {
        "colab": {},
        "colab_type": "code",
        "id": "2um-wEblgUS1"
      },
      "outputs": [],
      "source": [
        "# separating the independent and dependent variables\n",
        "\n",
        "# storing all the independent variables as X\n",
        "X = df_train.drop('Item_Outlet_Sales', axis=1)\n",
        "\n",
        "# storing the dependent variable as y\n",
        "y = df_train['Item_Outlet_Sales']"
      ]
    },
    {
      "cell_type": "code",
      "execution_count": 99,
      "metadata": {
        "colab": {},
        "colab_type": "code",
        "id": "_DUj_ODL9t-D"
      },
      "outputs": [
        {
          "data": {
            "text/plain": [
              "((8523, 11), (8523,))"
            ]
          },
          "execution_count": 99,
          "metadata": {},
          "output_type": "execute_result"
        }
      ],
      "source": [
        "# shape of independent and dependent variables\n",
        "X.shape, y.shape"
      ]
    },
    {
      "cell_type": "code",
      "execution_count": 100,
      "metadata": {},
      "outputs": [],
      "source": [
        "# Creating training and validation set\n",
        "\n",
        "# stratify will make sure that the distribution of classes in train and validation set it similar\n",
        "# random state to regenerate the same train and validation set\n",
        "# test size 0.2 will keep 20% data in validation and remaining 80% in train set\n",
        "\n",
        "X_train,X_test,y_train,y_test = train_test_split(X,y,random_state=10,test_size=0.2)"
      ]
    },
    {
      "cell_type": "code",
      "execution_count": 101,
      "metadata": {},
      "outputs": [
        {
          "data": {
            "text/plain": [
              "(((6818, 11), (6818,)), ((1705, 11), (1705,)))"
            ]
          },
          "execution_count": 101,
          "metadata": {},
          "output_type": "execute_result"
        }
      ],
      "source": [
        "# shape of training and validation set\n",
        "(X_train.shape, y_train.shape), (X_test.shape, y_test.shape)"
      ]
    },
    {
      "attachments": {},
      "cell_type": "markdown",
      "metadata": {},
      "source": [
        "## 4. Defining the architecture of the model"
      ]
    },
    {
      "cell_type": "code",
      "execution_count": 102,
      "metadata": {},
      "outputs": [],
      "source": [
        "# !pip install daal==2021.4.0\n",
        "# !pip install tensorflow\n",
        "# !pip install keras\n",
        "# !pip install numpy"
      ]
    },
    {
      "cell_type": "code",
      "execution_count": 103,
      "metadata": {},
      "outputs": [
        {
          "name": "stdout",
          "output_type": "stream",
          "text": [
            "2.12.0\n"
          ]
        }
      ],
      "source": [
        "# checking the version of keras\n",
        "import keras\n",
        "print(keras.__version__)"
      ]
    },
    {
      "cell_type": "code",
      "execution_count": 104,
      "metadata": {},
      "outputs": [
        {
          "name": "stdout",
          "output_type": "stream",
          "text": [
            "2.12.0\n"
          ]
        }
      ],
      "source": [
        "# checking the version of tensorflow\n",
        "import tensorflow as tf\n",
        "print(tf.__version__)"
      ]
    },
    {
      "attachments": {},
      "cell_type": "markdown",
      "metadata": {},
      "source": [
        "### a. Create a model"
      ]
    },
    {
      "cell_type": "code",
      "execution_count": 105,
      "metadata": {},
      "outputs": [],
      "source": [
        "# importing the sequential model\n",
        "from keras.models import Sequential\n",
        "from keras.wrappers.scikit_learn import KerasRegressor"
      ]
    },
    {
      "cell_type": "code",
      "execution_count": 106,
      "metadata": {},
      "outputs": [],
      "source": [
        "# importing different layers from keras\n",
        "from keras.layers import InputLayer, Dense "
      ]
    },
    {
      "cell_type": "code",
      "execution_count": 107,
      "metadata": {},
      "outputs": [
        {
          "data": {
            "text/plain": [
              "(6818, 11)"
            ]
          },
          "execution_count": 107,
          "metadata": {},
          "output_type": "execute_result"
        }
      ],
      "source": [
        "# number of input neurons\n",
        "X_train.shape"
      ]
    },
    {
      "cell_type": "code",
      "execution_count": 108,
      "metadata": {},
      "outputs": [
        {
          "data": {
            "text/plain": [
              "11"
            ]
          },
          "execution_count": 108,
          "metadata": {},
          "output_type": "execute_result"
        }
      ],
      "source": [
        "# number of features in the data\n",
        "X_train.shape[1]"
      ]
    },
    {
      "cell_type": "code",
      "execution_count": 109,
      "metadata": {},
      "outputs": [],
      "source": [
        "# defining input neurons\n",
        "input_neurons = X_train.shape[1]"
      ]
    },
    {
      "cell_type": "code",
      "execution_count": 110,
      "metadata": {},
      "outputs": [],
      "source": [
        "# number of output neurons\n",
        "\n",
        "# since sales prediction is a regression problem, we will have single neuron in the output layer "
      ]
    },
    {
      "cell_type": "code",
      "execution_count": 111,
      "metadata": {},
      "outputs": [],
      "source": [
        "# define number of output neurons\n",
        "output_neurons = 1"
      ]
    },
    {
      "cell_type": "code",
      "execution_count": 112,
      "metadata": {},
      "outputs": [],
      "source": [
        "# number of hidden layers and hidden neurons\n",
        "\n",
        "# It is a hyperparameter and we can pick the hidden layers and hidden neurons on our own"
      ]
    },
    {
      "cell_type": "code",
      "execution_count": 113,
      "metadata": {},
      "outputs": [],
      "source": [
        "# define hidden layers and neuron in each layer\n",
        "number_of_hidden_layers = 2\n",
        "neuron_hidden_layer_1 = 10\n",
        "neuron_hidden_layer_2 = 5"
      ]
    },
    {
      "cell_type": "code",
      "execution_count": 114,
      "metadata": {},
      "outputs": [],
      "source": [
        "# activation function of different layers\n",
        "\n",
        "# Let's choose relu as an activation function for hidden layers\n",
        "# Since it is a regression problem, we will use linear as an activation function in the output layer"
      ]
    },
    {
      "cell_type": "code",
      "execution_count": 115,
      "metadata": {},
      "outputs": [],
      "source": [
        "# defining the architecture of the model\n",
        "model = Sequential()\n",
        "model.add(InputLayer(input_shape=(input_neurons, )))\n",
        "model.add(Dense(units=neuron_hidden_layer_1, activation='relu'))\n",
        "model.add(Dense(units=neuron_hidden_layer_2, activation='relu'))\n",
        "model.add(Dense(units=output_neurons, activation='linear'))"
      ]
    },
    {
      "cell_type": "code",
      "execution_count": 116,
      "metadata": {},
      "outputs": [
        {
          "name": "stdout",
          "output_type": "stream",
          "text": [
            "Model: \"sequential_1\"\n",
            "_________________________________________________________________\n",
            " Layer (type)                Output Shape              Param #   \n",
            "=================================================================\n",
            " dense_3 (Dense)             (None, 10)                120       \n",
            "                                                                 \n",
            " dense_4 (Dense)             (None, 5)                 55        \n",
            "                                                                 \n",
            " dense_5 (Dense)             (None, 1)                 6         \n",
            "                                                                 \n",
            "=================================================================\n",
            "Total params: 181\n",
            "Trainable params: 181\n",
            "Non-trainable params: 0\n",
            "_________________________________________________________________\n"
          ]
        }
      ],
      "source": [
        "# summary of the model\n",
        "model.summary()"
      ]
    },
    {
      "attachments": {},
      "cell_type": "markdown",
      "metadata": {},
      "source": [
        "## 5. Compiling the model (defining loss function, optimizer)"
      ]
    },
    {
      "cell_type": "code",
      "execution_count": 117,
      "metadata": {},
      "outputs": [],
      "source": [
        "# compiling the model\n",
        "\n",
        "# Since it is a regression problem, we will use mean squared error as loss function\n",
        "\n",
        "# we will use adam as an optimizer\n",
        "\n",
        "model.compile(loss='mean_squared_error', optimizer='adam', metrics=['mean_squared_error'])"
      ]
    },
    {
      "attachments": {},
      "cell_type": "markdown",
      "metadata": {},
      "source": [
        "## 6. Training the model"
      ]
    },
    {
      "cell_type": "code",
      "execution_count": 118,
      "metadata": {},
      "outputs": [
        {
          "name": "stdout",
          "output_type": "stream",
          "text": [
            "Epoch 1/100\n",
            "214/214 [==============================] - 1s 3ms/step - loss: 7605303.5000 - mean_squared_error: 7605303.5000 - val_loss: 7769589.5000 - val_mean_squared_error: 7769589.5000\n",
            "Epoch 2/100\n",
            "214/214 [==============================] - 0s 2ms/step - loss: 7477746.0000 - mean_squared_error: 7477746.0000 - val_loss: 7545104.0000 - val_mean_squared_error: 7545104.0000\n",
            "Epoch 3/100\n",
            "214/214 [==============================] - 0s 2ms/step - loss: 7129448.0000 - mean_squared_error: 7129448.0000 - val_loss: 7047725.5000 - val_mean_squared_error: 7047725.5000\n",
            "Epoch 4/100\n",
            "214/214 [==============================] - 1s 3ms/step - loss: 6497296.0000 - mean_squared_error: 6497296.0000 - val_loss: 6263013.0000 - val_mean_squared_error: 6263013.0000\n",
            "Epoch 5/100\n",
            "214/214 [==============================] - 0s 2ms/step - loss: 5616016.5000 - mean_squared_error: 5616016.5000 - val_loss: 5280497.0000 - val_mean_squared_error: 5280497.0000\n",
            "Epoch 6/100\n",
            "214/214 [==============================] - 1s 3ms/step - loss: 4629691.0000 - mean_squared_error: 4629691.0000 - val_loss: 4294195.5000 - val_mean_squared_error: 4294195.5000\n",
            "Epoch 7/100\n",
            "214/214 [==============================] - 0s 2ms/step - loss: 3750557.7500 - mean_squared_error: 3750557.7500 - val_loss: 3504851.7500 - val_mean_squared_error: 3504851.7500\n",
            "Epoch 8/100\n",
            "214/214 [==============================] - 0s 2ms/step - loss: 3120676.7500 - mean_squared_error: 3120676.7500 - val_loss: 3010046.2500 - val_mean_squared_error: 3010046.2500\n",
            "Epoch 9/100\n",
            "214/214 [==============================] - 1s 2ms/step - loss: 2779668.0000 - mean_squared_error: 2779668.0000 - val_loss: 2779938.7500 - val_mean_squared_error: 2779938.7500\n",
            "Epoch 10/100\n",
            "214/214 [==============================] - 0s 2ms/step - loss: 2639754.5000 - mean_squared_error: 2639754.5000 - val_loss: 2692204.0000 - val_mean_squared_error: 2692204.0000\n",
            "Epoch 11/100\n",
            "214/214 [==============================] - 1s 2ms/step - loss: 2584340.0000 - mean_squared_error: 2584340.0000 - val_loss: 2650493.2500 - val_mean_squared_error: 2650493.2500\n",
            "Epoch 12/100\n",
            "214/214 [==============================] - 1s 2ms/step - loss: 2555573.5000 - mean_squared_error: 2555573.5000 - val_loss: 2622846.7500 - val_mean_squared_error: 2622846.7500\n",
            "Epoch 13/100\n",
            "214/214 [==============================] - 0s 2ms/step - loss: 2530601.7500 - mean_squared_error: 2530601.7500 - val_loss: 2596166.7500 - val_mean_squared_error: 2596166.7500\n",
            "Epoch 14/100\n",
            "214/214 [==============================] - 1s 3ms/step - loss: 2505415.5000 - mean_squared_error: 2505415.5000 - val_loss: 2568809.5000 - val_mean_squared_error: 2568809.5000\n",
            "Epoch 15/100\n",
            "214/214 [==============================] - 1s 2ms/step - loss: 2479030.0000 - mean_squared_error: 2479030.0000 - val_loss: 2540145.5000 - val_mean_squared_error: 2540145.5000\n",
            "Epoch 16/100\n",
            "214/214 [==============================] - 0s 2ms/step - loss: 2452322.5000 - mean_squared_error: 2452322.5000 - val_loss: 2511061.7500 - val_mean_squared_error: 2511061.7500\n",
            "Epoch 17/100\n",
            "214/214 [==============================] - 1s 3ms/step - loss: 2423900.7500 - mean_squared_error: 2423900.7500 - val_loss: 2480180.7500 - val_mean_squared_error: 2480180.7500\n",
            "Epoch 18/100\n",
            "214/214 [==============================] - 0s 2ms/step - loss: 2396007.2500 - mean_squared_error: 2396007.2500 - val_loss: 2450103.0000 - val_mean_squared_error: 2450103.0000\n",
            "Epoch 19/100\n",
            "214/214 [==============================] - 0s 2ms/step - loss: 2366898.7500 - mean_squared_error: 2366898.7500 - val_loss: 2419029.0000 - val_mean_squared_error: 2419029.0000\n",
            "Epoch 20/100\n",
            "214/214 [==============================] - 1s 3ms/step - loss: 2337276.2500 - mean_squared_error: 2337276.2500 - val_loss: 2387230.7500 - val_mean_squared_error: 2387230.7500\n",
            "Epoch 21/100\n",
            "214/214 [==============================] - 1s 2ms/step - loss: 2306981.2500 - mean_squared_error: 2306981.2500 - val_loss: 2354448.0000 - val_mean_squared_error: 2354448.0000\n",
            "Epoch 22/100\n",
            "214/214 [==============================] - 1s 2ms/step - loss: 2276106.7500 - mean_squared_error: 2276106.7500 - val_loss: 2321075.2500 - val_mean_squared_error: 2321075.2500\n",
            "Epoch 23/100\n",
            "214/214 [==============================] - 1s 3ms/step - loss: 2244581.5000 - mean_squared_error: 2244581.5000 - val_loss: 2286489.5000 - val_mean_squared_error: 2286489.5000\n",
            "Epoch 24/100\n",
            "214/214 [==============================] - 0s 2ms/step - loss: 2212078.2500 - mean_squared_error: 2212078.2500 - val_loss: 2252297.2500 - val_mean_squared_error: 2252297.2500\n",
            "Epoch 25/100\n",
            "214/214 [==============================] - 0s 2ms/step - loss: 2179579.0000 - mean_squared_error: 2179579.0000 - val_loss: 2216715.5000 - val_mean_squared_error: 2216715.5000\n",
            "Epoch 26/100\n",
            "214/214 [==============================] - 1s 3ms/step - loss: 2146308.2500 - mean_squared_error: 2146308.2500 - val_loss: 2180289.5000 - val_mean_squared_error: 2180289.5000\n",
            "Epoch 27/100\n",
            "214/214 [==============================] - 1s 3ms/step - loss: 2112307.7500 - mean_squared_error: 2112307.7500 - val_loss: 2143666.5000 - val_mean_squared_error: 2143666.5000\n",
            "Epoch 28/100\n",
            "214/214 [==============================] - 1s 3ms/step - loss: 2078000.3750 - mean_squared_error: 2078000.3750 - val_loss: 2106741.5000 - val_mean_squared_error: 2106741.5000\n",
            "Epoch 29/100\n",
            "214/214 [==============================] - 1s 2ms/step - loss: 2043792.2500 - mean_squared_error: 2043792.2500 - val_loss: 2069655.7500 - val_mean_squared_error: 2069655.7500\n",
            "Epoch 30/100\n",
            "214/214 [==============================] - 0s 2ms/step - loss: 2009370.0000 - mean_squared_error: 2009370.0000 - val_loss: 2032524.3750 - val_mean_squared_error: 2032524.3750\n",
            "Epoch 31/100\n",
            "214/214 [==============================] - 1s 2ms/step - loss: 1974833.7500 - mean_squared_error: 1974833.7500 - val_loss: 1995702.6250 - val_mean_squared_error: 1995702.6250\n",
            "Epoch 32/100\n",
            "214/214 [==============================] - 0s 2ms/step - loss: 1940690.7500 - mean_squared_error: 1940690.7500 - val_loss: 1958245.2500 - val_mean_squared_error: 1958245.2500\n",
            "Epoch 33/100\n",
            "214/214 [==============================] - 1s 3ms/step - loss: 1906752.7500 - mean_squared_error: 1906752.7500 - val_loss: 1921993.7500 - val_mean_squared_error: 1921993.7500\n",
            "Epoch 34/100\n",
            "214/214 [==============================] - 0s 2ms/step - loss: 1873829.2500 - mean_squared_error: 1873829.2500 - val_loss: 1886442.1250 - val_mean_squared_error: 1886442.1250\n",
            "Epoch 35/100\n",
            "214/214 [==============================] - 0s 2ms/step - loss: 1841188.6250 - mean_squared_error: 1841188.6250 - val_loss: 1851845.7500 - val_mean_squared_error: 1851845.7500\n",
            "Epoch 36/100\n",
            "214/214 [==============================] - 0s 2ms/step - loss: 1810202.3750 - mean_squared_error: 1810202.3750 - val_loss: 1817985.6250 - val_mean_squared_error: 1817985.6250\n",
            "Epoch 37/100\n",
            "214/214 [==============================] - 0s 2ms/step - loss: 1779953.5000 - mean_squared_error: 1779953.5000 - val_loss: 1784962.5000 - val_mean_squared_error: 1784962.5000\n",
            "Epoch 38/100\n",
            "214/214 [==============================] - 0s 2ms/step - loss: 1747484.1250 - mean_squared_error: 1747484.1250 - val_loss: 1750157.7500 - val_mean_squared_error: 1750157.7500\n",
            "Epoch 39/100\n",
            "214/214 [==============================] - 0s 2ms/step - loss: 1717477.2500 - mean_squared_error: 1717477.2500 - val_loss: 1716927.7500 - val_mean_squared_error: 1716927.7500\n",
            "Epoch 40/100\n",
            "214/214 [==============================] - 1s 2ms/step - loss: 1688903.7500 - mean_squared_error: 1688903.7500 - val_loss: 1686161.2500 - val_mean_squared_error: 1686161.2500\n",
            "Epoch 41/100\n",
            "214/214 [==============================] - 0s 2ms/step - loss: 1662463.5000 - mean_squared_error: 1662463.5000 - val_loss: 1658678.6250 - val_mean_squared_error: 1658678.6250\n",
            "Epoch 42/100\n",
            "214/214 [==============================] - 1s 2ms/step - loss: 1638259.1250 - mean_squared_error: 1638259.1250 - val_loss: 1632771.6250 - val_mean_squared_error: 1632771.6250\n",
            "Epoch 43/100\n",
            "214/214 [==============================] - 0s 2ms/step - loss: 1616061.5000 - mean_squared_error: 1616061.5000 - val_loss: 1609041.2500 - val_mean_squared_error: 1609041.2500\n",
            "Epoch 44/100\n",
            "214/214 [==============================] - 0s 2ms/step - loss: 1596464.6250 - mean_squared_error: 1596464.6250 - val_loss: 1588039.8750 - val_mean_squared_error: 1588039.8750\n",
            "Epoch 45/100\n",
            "214/214 [==============================] - 1s 2ms/step - loss: 1578210.5000 - mean_squared_error: 1578210.5000 - val_loss: 1568818.0000 - val_mean_squared_error: 1568818.0000\n",
            "Epoch 46/100\n",
            "214/214 [==============================] - 0s 2ms/step - loss: 1562387.5000 - mean_squared_error: 1562387.5000 - val_loss: 1551476.5000 - val_mean_squared_error: 1551476.5000\n",
            "Epoch 47/100\n",
            "214/214 [==============================] - 1s 2ms/step - loss: 1547636.0000 - mean_squared_error: 1547636.0000 - val_loss: 1536123.0000 - val_mean_squared_error: 1536123.0000\n",
            "Epoch 48/100\n",
            "214/214 [==============================] - 0s 2ms/step - loss: 1534795.1250 - mean_squared_error: 1534795.1250 - val_loss: 1522146.7500 - val_mean_squared_error: 1522146.7500\n",
            "Epoch 49/100\n",
            "214/214 [==============================] - 0s 2ms/step - loss: 1523640.3750 - mean_squared_error: 1523640.3750 - val_loss: 1509883.0000 - val_mean_squared_error: 1509883.0000\n",
            "Epoch 50/100\n",
            "214/214 [==============================] - 1s 2ms/step - loss: 1513316.2500 - mean_squared_error: 1513316.2500 - val_loss: 1498667.2500 - val_mean_squared_error: 1498667.2500\n",
            "Epoch 51/100\n",
            "214/214 [==============================] - 1s 2ms/step - loss: 1504505.0000 - mean_squared_error: 1504505.0000 - val_loss: 1488971.2500 - val_mean_squared_error: 1488971.2500\n",
            "Epoch 52/100\n",
            "214/214 [==============================] - 0s 2ms/step - loss: 1496258.7500 - mean_squared_error: 1496258.7500 - val_loss: 1480220.6250 - val_mean_squared_error: 1480220.6250\n",
            "Epoch 53/100\n",
            "214/214 [==============================] - 1s 2ms/step - loss: 1488838.6250 - mean_squared_error: 1488838.6250 - val_loss: 1472299.0000 - val_mean_squared_error: 1472299.0000\n",
            "Epoch 54/100\n",
            "214/214 [==============================] - 0s 2ms/step - loss: 1483242.2500 - mean_squared_error: 1483242.2500 - val_loss: 1465460.8750 - val_mean_squared_error: 1465460.8750\n",
            "Epoch 55/100\n",
            "214/214 [==============================] - 0s 2ms/step - loss: 1477089.2500 - mean_squared_error: 1477089.2500 - val_loss: 1459428.5000 - val_mean_squared_error: 1459428.5000\n",
            "Epoch 56/100\n",
            "214/214 [==============================] - 1s 3ms/step - loss: 1472289.6250 - mean_squared_error: 1472289.6250 - val_loss: 1453897.1250 - val_mean_squared_error: 1453897.1250\n",
            "Epoch 57/100\n",
            "214/214 [==============================] - 1s 2ms/step - loss: 1467826.0000 - mean_squared_error: 1467826.0000 - val_loss: 1449460.1250 - val_mean_squared_error: 1449460.1250\n",
            "Epoch 58/100\n",
            "214/214 [==============================] - 1s 2ms/step - loss: 1464043.2500 - mean_squared_error: 1464043.2500 - val_loss: 1445852.6250 - val_mean_squared_error: 1445852.6250\n",
            "Epoch 59/100\n",
            "214/214 [==============================] - 1s 2ms/step - loss: 1460984.1250 - mean_squared_error: 1460984.1250 - val_loss: 1441793.2500 - val_mean_squared_error: 1441793.2500\n",
            "Epoch 60/100\n",
            "214/214 [==============================] - 1s 2ms/step - loss: 1458150.0000 - mean_squared_error: 1458150.0000 - val_loss: 1438457.1250 - val_mean_squared_error: 1438457.1250\n",
            "Epoch 61/100\n",
            "214/214 [==============================] - 1s 2ms/step - loss: 1455104.6250 - mean_squared_error: 1455104.6250 - val_loss: 1435391.0000 - val_mean_squared_error: 1435391.0000\n",
            "Epoch 62/100\n",
            "214/214 [==============================] - 0s 2ms/step - loss: 1452612.3750 - mean_squared_error: 1452612.3750 - val_loss: 1432670.6250 - val_mean_squared_error: 1432670.6250\n",
            "Epoch 63/100\n",
            "214/214 [==============================] - 1s 2ms/step - loss: 1450324.7500 - mean_squared_error: 1450324.7500 - val_loss: 1430346.1250 - val_mean_squared_error: 1430346.1250\n",
            "Epoch 64/100\n",
            "214/214 [==============================] - 0s 2ms/step - loss: 1448714.1250 - mean_squared_error: 1448714.1250 - val_loss: 1428634.5000 - val_mean_squared_error: 1428634.5000\n",
            "Epoch 65/100\n",
            "214/214 [==============================] - 0s 2ms/step - loss: 1446963.3750 - mean_squared_error: 1446963.3750 - val_loss: 1426314.7500 - val_mean_squared_error: 1426314.7500\n",
            "Epoch 66/100\n",
            "214/214 [==============================] - 1s 2ms/step - loss: 1445067.2500 - mean_squared_error: 1445067.2500 - val_loss: 1424330.2500 - val_mean_squared_error: 1424330.2500\n",
            "Epoch 67/100\n",
            "214/214 [==============================] - 0s 2ms/step - loss: 1443319.8750 - mean_squared_error: 1443319.8750 - val_loss: 1423809.1250 - val_mean_squared_error: 1423809.1250\n",
            "Epoch 68/100\n",
            "214/214 [==============================] - 0s 2ms/step - loss: 1442421.7500 - mean_squared_error: 1442421.7500 - val_loss: 1422479.5000 - val_mean_squared_error: 1422479.5000\n",
            "Epoch 69/100\n",
            "214/214 [==============================] - 0s 2ms/step - loss: 1440773.7500 - mean_squared_error: 1440773.7500 - val_loss: 1420112.5000 - val_mean_squared_error: 1420112.5000\n",
            "Epoch 70/100\n",
            "214/214 [==============================] - 0s 2ms/step - loss: 1439413.3750 - mean_squared_error: 1439413.3750 - val_loss: 1418729.6250 - val_mean_squared_error: 1418729.6250\n",
            "Epoch 71/100\n",
            "214/214 [==============================] - 0s 2ms/step - loss: 1438675.3750 - mean_squared_error: 1438675.3750 - val_loss: 1417637.8750 - val_mean_squared_error: 1417637.8750\n",
            "Epoch 72/100\n",
            "214/214 [==============================] - 1s 2ms/step - loss: 1437903.6250 - mean_squared_error: 1437903.6250 - val_loss: 1416453.1250 - val_mean_squared_error: 1416453.1250\n",
            "Epoch 73/100\n",
            "214/214 [==============================] - 0s 2ms/step - loss: 1436637.5000 - mean_squared_error: 1436637.5000 - val_loss: 1416840.7500 - val_mean_squared_error: 1416840.7500\n",
            "Epoch 74/100\n",
            "214/214 [==============================] - 0s 2ms/step - loss: 1435954.8750 - mean_squared_error: 1435954.8750 - val_loss: 1415346.2500 - val_mean_squared_error: 1415346.2500\n",
            "Epoch 75/100\n",
            "214/214 [==============================] - 0s 2ms/step - loss: 1435017.3750 - mean_squared_error: 1435017.3750 - val_loss: 1413798.2500 - val_mean_squared_error: 1413798.2500\n",
            "Epoch 76/100\n",
            "214/214 [==============================] - 0s 2ms/step - loss: 1435257.0000 - mean_squared_error: 1435257.0000 - val_loss: 1413610.5000 - val_mean_squared_error: 1413610.5000\n",
            "Epoch 77/100\n",
            "214/214 [==============================] - 1s 2ms/step - loss: 1434018.1250 - mean_squared_error: 1434018.1250 - val_loss: 1412536.6250 - val_mean_squared_error: 1412536.6250\n",
            "Epoch 78/100\n",
            "214/214 [==============================] - 0s 2ms/step - loss: 1433259.2500 - mean_squared_error: 1433259.2500 - val_loss: 1412005.6250 - val_mean_squared_error: 1412005.6250\n",
            "Epoch 79/100\n",
            "214/214 [==============================] - 0s 2ms/step - loss: 1432802.6250 - mean_squared_error: 1432802.6250 - val_loss: 1411361.6250 - val_mean_squared_error: 1411361.6250\n",
            "Epoch 80/100\n",
            "214/214 [==============================] - 0s 2ms/step - loss: 1431909.6250 - mean_squared_error: 1431909.6250 - val_loss: 1411922.6250 - val_mean_squared_error: 1411922.6250\n",
            "Epoch 81/100\n",
            "214/214 [==============================] - 0s 2ms/step - loss: 1431694.3750 - mean_squared_error: 1431694.3750 - val_loss: 1410560.0000 - val_mean_squared_error: 1410560.0000\n",
            "Epoch 82/100\n",
            "214/214 [==============================] - 1s 2ms/step - loss: 1431051.2500 - mean_squared_error: 1431051.2500 - val_loss: 1411388.3750 - val_mean_squared_error: 1411388.3750\n",
            "Epoch 83/100\n",
            "214/214 [==============================] - 0s 2ms/step - loss: 1431621.2500 - mean_squared_error: 1431621.2500 - val_loss: 1409838.2500 - val_mean_squared_error: 1409838.2500\n",
            "Epoch 84/100\n",
            "214/214 [==============================] - 1s 3ms/step - loss: 1430406.0000 - mean_squared_error: 1430406.0000 - val_loss: 1408974.0000 - val_mean_squared_error: 1408974.0000\n",
            "Epoch 85/100\n",
            "214/214 [==============================] - 0s 2ms/step - loss: 1429576.3750 - mean_squared_error: 1429576.3750 - val_loss: 1408855.2500 - val_mean_squared_error: 1408855.2500\n",
            "Epoch 86/100\n",
            "214/214 [==============================] - 0s 2ms/step - loss: 1429772.7500 - mean_squared_error: 1429772.7500 - val_loss: 1408259.8750 - val_mean_squared_error: 1408259.8750\n",
            "Epoch 87/100\n",
            "214/214 [==============================] - 1s 2ms/step - loss: 1428239.5000 - mean_squared_error: 1428239.5000 - val_loss: 1407816.6250 - val_mean_squared_error: 1407816.6250\n",
            "Epoch 88/100\n",
            "214/214 [==============================] - 0s 2ms/step - loss: 1429160.2500 - mean_squared_error: 1429160.2500 - val_loss: 1408218.7500 - val_mean_squared_error: 1408218.7500\n",
            "Epoch 89/100\n",
            "214/214 [==============================] - 0s 2ms/step - loss: 1428170.2500 - mean_squared_error: 1428170.2500 - val_loss: 1407292.2500 - val_mean_squared_error: 1407292.2500\n",
            "Epoch 90/100\n",
            "214/214 [==============================] - 0s 2ms/step - loss: 1427812.1250 - mean_squared_error: 1427812.1250 - val_loss: 1406985.0000 - val_mean_squared_error: 1406985.0000\n",
            "Epoch 91/100\n",
            "214/214 [==============================] - 0s 2ms/step - loss: 1427819.1250 - mean_squared_error: 1427819.1250 - val_loss: 1406771.6250 - val_mean_squared_error: 1406771.6250\n",
            "Epoch 92/100\n",
            "214/214 [==============================] - 1s 2ms/step - loss: 1426895.0000 - mean_squared_error: 1426895.0000 - val_loss: 1406445.6250 - val_mean_squared_error: 1406445.6250\n",
            "Epoch 93/100\n",
            "214/214 [==============================] - 1s 2ms/step - loss: 1426890.5000 - mean_squared_error: 1426890.5000 - val_loss: 1406138.0000 - val_mean_squared_error: 1406138.0000\n",
            "Epoch 94/100\n",
            "214/214 [==============================] - 0s 2ms/step - loss: 1426496.7500 - mean_squared_error: 1426496.7500 - val_loss: 1406239.1250 - val_mean_squared_error: 1406239.1250\n",
            "Epoch 95/100\n",
            "214/214 [==============================] - 0s 2ms/step - loss: 1426494.1250 - mean_squared_error: 1426494.1250 - val_loss: 1405613.1250 - val_mean_squared_error: 1405613.1250\n",
            "Epoch 96/100\n",
            "214/214 [==============================] - 0s 2ms/step - loss: 1426429.2500 - mean_squared_error: 1426429.2500 - val_loss: 1405873.8750 - val_mean_squared_error: 1405873.8750\n",
            "Epoch 97/100\n",
            "214/214 [==============================] - 1s 2ms/step - loss: 1426279.1250 - mean_squared_error: 1426279.1250 - val_loss: 1405197.8750 - val_mean_squared_error: 1405197.8750\n",
            "Epoch 98/100\n",
            "214/214 [==============================] - 0s 2ms/step - loss: 1425523.0000 - mean_squared_error: 1425523.0000 - val_loss: 1405134.0000 - val_mean_squared_error: 1405134.0000\n",
            "Epoch 99/100\n",
            "214/214 [==============================] - 0s 2ms/step - loss: 1425373.1250 - mean_squared_error: 1425373.1250 - val_loss: 1404928.2500 - val_mean_squared_error: 1404928.2500\n",
            "Epoch 100/100\n",
            "214/214 [==============================] - 0s 2ms/step - loss: 1425206.2500 - mean_squared_error: 1425206.2500 - val_loss: 1404631.7500 - val_mean_squared_error: 1404631.7500\n"
          ]
        }
      ],
      "source": [
        "# Let's train the model for 100 epochs\n",
        "model_history = model.fit(X_train, y_train, validation_data=(X_test, y_test), epochs=100)"
      ]
    },
    {
      "attachments": {},
      "cell_type": "markdown",
      "metadata": {},
      "source": [
        "## 7. Evaluating model performance on validation set"
      ]
    },
    {
      "cell_type": "code",
      "execution_count": 134,
      "metadata": {},
      "outputs": [
        {
          "name": "stdout",
          "output_type": "stream",
          "text": [
            "54/54 [==============================] - 0s 2ms/step\n"
          ]
        }
      ],
      "source": [
        "# getting predictions for the validation set\n",
        "prediction = model.predict(X_test)"
      ]
    },
    {
      "cell_type": "code",
      "execution_count": 136,
      "metadata": {},
      "outputs": [
        {
          "data": {
            "text/plain": [
              "1185.1716327438328"
            ]
          },
          "execution_count": 136,
          "metadata": {},
          "output_type": "execute_result"
        }
      ],
      "source": [
        "# calculating the accuracy on validation set\n",
        "np.sqrt(mean_squared_error(y_test, prediction))"
      ]
    },
    {
      "cell_type": "code",
      "execution_count": 137,
      "metadata": {},
      "outputs": [
        {
          "data": {
            "image/png": "[encoded data removed]",
            "text/plain": [
              "<Figure size 640x480 with 1 Axes>"
            ]
          },
          "metadata": {},
          "output_type": "display_data"
        }
      ],
      "source": [
        "# summarize history for loss\n",
        "plt.plot(model_history.history['loss'])\n",
        "plt.plot(model_history.history['val_loss'])\n",
        "plt.title('model loss')\n",
        "plt.ylabel('loss')\n",
        "plt.xlabel('epoch')\n",
        "plt.legend(['train', 'validation'], loc='upper left')\n",
        "plt.show()"
      ]
    },
    {
      "cell_type": "code",
      "execution_count": 138,
      "metadata": {},
      "outputs": [
        {
          "data": {
            "image/png": "[encoded data removed]",
            "text/plain": [
              "<Figure size 640x480 with 1 Axes>"
            ]
          },
          "metadata": {},
          "output_type": "display_data"
        }
      ],
      "source": [
        "# summarize history for accuracy\n",
        "plt.plot(model_history.history['mean_squared_error'])\n",
        "plt.plot(model_history.history['val_mean_squared_error'])\n",
        "plt.title('model error')\n",
        "plt.ylabel('val_mean_squared_error')\n",
        "plt.xlabel('epoch')\n",
        "plt.legend(['train', 'validation'], loc='upper left')\n",
        "plt.show()"
      ]
    },
    {
      "cell_type": "code",
      "execution_count": 139,
      "metadata": {},
      "outputs": [
        {
          "data": {
            "text/html": [
              "<div>\n",
              "<style scoped>\n",
              "    .dataframe tbody tr th:only-of-type {\n",
              "        vertical-align: middle;\n",
              "    }\n",
              "\n",
              "    .dataframe tbody tr th {\n",
              "        vertical-align: top;\n",
              "    }\n",
              "\n",
              "    .dataframe thead th {\n",
              "        text-align: right;\n",
              "    }\n",
              "</style>\n",
              "<table border=\"1\" class=\"dataframe\">\n",
              "  <thead>\n",
              "    <tr style=\"text-align: right;\">\n",
              "      <th></th>\n",
              "      <th>Item_Weight</th>\n",
              "      <th>Item_Fat_Content</th>\n",
              "      <th>Item_Visibility</th>\n",
              "      <th>Item_Type</th>\n",
              "      <th>Item_MRP</th>\n",
              "      <th>Outlet_Identifier</th>\n",
              "      <th>Outlet_Establishment_Year</th>\n",
              "      <th>Outlet_Size</th>\n",
              "      <th>Outlet_Location_Type</th>\n",
              "      <th>Outlet_Type</th>\n",
              "      <th>Item_Identifier_Initial</th>\n",
              "    </tr>\n",
              "  </thead>\n",
              "  <tbody>\n",
              "    <tr>\n",
              "      <th>0</th>\n",
              "      <td>0.964275</td>\n",
              "      <td>0.25</td>\n",
              "      <td>0.023374</td>\n",
              "      <td>0.866667</td>\n",
              "      <td>0.323413</td>\n",
              "      <td>1.000000</td>\n",
              "      <td>0.583333</td>\n",
              "      <td>0.5</td>\n",
              "      <td>0.0</td>\n",
              "      <td>0.333333</td>\n",
              "      <td>0.5</td>\n",
              "    </tr>\n",
              "    <tr>\n",
              "      <th>1</th>\n",
              "      <td>0.222983</td>\n",
              "      <td>1.00</td>\n",
              "      <td>0.118737</td>\n",
              "      <td>0.266667</td>\n",
              "      <td>0.235849</td>\n",
              "      <td>0.222222</td>\n",
              "      <td>0.916667</td>\n",
              "      <td>0.5</td>\n",
              "      <td>0.5</td>\n",
              "      <td>0.333333</td>\n",
              "      <td>0.5</td>\n",
              "    </tr>\n",
              "    <tr>\n",
              "      <th>2</th>\n",
              "      <td>0.598095</td>\n",
              "      <td>0.25</td>\n",
              "      <td>0.307674</td>\n",
              "      <td>0.733333</td>\n",
              "      <td>0.894140</td>\n",
              "      <td>0.000000</td>\n",
              "      <td>0.541667</td>\n",
              "      <td>0.5</td>\n",
              "      <td>1.0</td>\n",
              "      <td>0.000000</td>\n",
              "      <td>1.0</td>\n",
              "    </tr>\n",
              "    <tr>\n",
              "      <th>3</th>\n",
              "      <td>0.164335</td>\n",
              "      <td>0.25</td>\n",
              "      <td>0.047548</td>\n",
              "      <td>0.866667</td>\n",
              "      <td>0.524488</td>\n",
              "      <td>0.222222</td>\n",
              "      <td>0.916667</td>\n",
              "      <td>0.5</td>\n",
              "      <td>0.5</td>\n",
              "      <td>0.333333</td>\n",
              "      <td>0.5</td>\n",
              "    </tr>\n",
              "    <tr>\n",
              "      <th>4</th>\n",
              "      <td>0.484706</td>\n",
              "      <td>0.50</td>\n",
              "      <td>0.366458</td>\n",
              "      <td>0.266667</td>\n",
              "      <td>0.862069</td>\n",
              "      <td>0.555556</td>\n",
              "      <td>0.000000</td>\n",
              "      <td>0.5</td>\n",
              "      <td>1.0</td>\n",
              "      <td>1.000000</td>\n",
              "      <td>0.5</td>\n",
              "    </tr>\n",
              "  </tbody>\n",
              "</table>\n",
              "</div>"
            ],
            "text/plain": [
              "   Item_Weight  Item_Fat_Content  Item_Visibility  Item_Type  Item_MRP  \\\n",
              "0     0.964275              0.25         0.023374   0.866667  0.323413   \n",
              "1     0.222983              1.00         0.118737   0.266667  0.235849   \n",
              "2     0.598095              0.25         0.307674   0.733333  0.894140   \n",
              "3     0.164335              0.25         0.047548   0.866667  0.524488   \n",
              "4     0.484706              0.50         0.366458   0.266667  0.862069   \n",
              "\n",
              "   Outlet_Identifier  Outlet_Establishment_Year  Outlet_Size  \\\n",
              "0           1.000000                   0.583333          0.5   \n",
              "1           0.222222                   0.916667          0.5   \n",
              "2           0.000000                   0.541667          0.5   \n",
              "3           0.222222                   0.916667          0.5   \n",
              "4           0.555556                   0.000000          0.5   \n",
              "\n",
              "   Outlet_Location_Type  Outlet_Type  Item_Identifier_Initial  \n",
              "0                   0.0     0.333333                      0.5  \n",
              "1                   0.5     0.333333                      0.5  \n",
              "2                   1.0     0.000000                      1.0  \n",
              "3                   0.5     0.333333                      0.5  \n",
              "4                   1.0     1.000000                      0.5  "
            ]
          },
          "execution_count": 139,
          "metadata": {},
          "output_type": "execute_result"
        }
      ],
      "source": [
        "df_test.head()"
      ]
    },
    {
      "cell_type": "code",
      "execution_count": 197,
      "metadata": {},
      "outputs": [
        {
          "name": "stdout",
          "output_type": "stream",
          "text": [
            "178/178 [==============================] - 0s 1ms/step\n"
          ]
        }
      ],
      "source": [
        "# Lets make predictions on the test dataset\n",
        "prediction = model.predict(df_test)"
      ]
    },
    {
      "cell_type": "code",
      "execution_count": 198,
      "metadata": {},
      "outputs": [],
      "source": [
        "prediction = abs(prediction)"
      ]
    },
    {
      "cell_type": "code",
      "execution_count": 199,
      "metadata": {},
      "outputs": [
        {
          "data": {
            "text/plain": [
              "(1.6121657, 5666.781)"
            ]
          },
          "execution_count": 199,
          "metadata": {},
          "output_type": "execute_result"
        }
      ],
      "source": [
        "prediction.min(), prediction.max()"
      ]
    },
    {
      "cell_type": "code",
      "execution_count": 200,
      "metadata": {},
      "outputs": [],
      "source": [
        "# creating a dataframe for submission\n",
        "df_sumission = pd.read_csv('../input/BigMart_Sales_Predictions/test.csv')"
      ]
    },
    {
      "cell_type": "code",
      "execution_count": 201,
      "metadata": {},
      "outputs": [
        {
          "data": {
            "text/html": [
              "<div>\n",
              "<style scoped>\n",
              "    .dataframe tbody tr th:only-of-type {\n",
              "        vertical-align: middle;\n",
              "    }\n",
              "\n",
              "    .dataframe tbody tr th {\n",
              "        vertical-align: top;\n",
              "    }\n",
              "\n",
              "    .dataframe thead th {\n",
              "        text-align: right;\n",
              "    }\n",
              "</style>\n",
              "<table border=\"1\" class=\"dataframe\">\n",
              "  <thead>\n",
              "    <tr style=\"text-align: right;\">\n",
              "      <th></th>\n",
              "      <th>Item_Identifier</th>\n",
              "      <th>Outlet_Identifier</th>\n",
              "      <th>Item_Outlet_Sales</th>\n",
              "    </tr>\n",
              "  </thead>\n",
              "  <tbody>\n",
              "    <tr>\n",
              "      <th>0</th>\n",
              "      <td>FDW58</td>\n",
              "      <td>OUT049</td>\n",
              "      <td>1000</td>\n",
              "    </tr>\n",
              "    <tr>\n",
              "      <th>1</th>\n",
              "      <td>FDW14</td>\n",
              "      <td>OUT017</td>\n",
              "      <td>1000</td>\n",
              "    </tr>\n",
              "    <tr>\n",
              "      <th>2</th>\n",
              "      <td>NCN55</td>\n",
              "      <td>OUT010</td>\n",
              "      <td>1000</td>\n",
              "    </tr>\n",
              "    <tr>\n",
              "      <th>3</th>\n",
              "      <td>FDQ58</td>\n",
              "      <td>OUT017</td>\n",
              "      <td>1000</td>\n",
              "    </tr>\n",
              "    <tr>\n",
              "      <th>4</th>\n",
              "      <td>FDY38</td>\n",
              "      <td>OUT027</td>\n",
              "      <td>1000</td>\n",
              "    </tr>\n",
              "  </tbody>\n",
              "</table>\n",
              "</div>"
            ],
            "text/plain": [
              "  Item_Identifier Outlet_Identifier  Item_Outlet_Sales\n",
              "0           FDW58            OUT049               1000\n",
              "1           FDW14            OUT017               1000\n",
              "2           NCN55            OUT010               1000\n",
              "3           FDQ58            OUT017               1000\n",
              "4           FDY38            OUT027               1000"
            ]
          },
          "execution_count": 201,
          "metadata": {},
          "output_type": "execute_result"
        }
      ],
      "source": [
        "df_sample.head()"
      ]
    },
    {
      "cell_type": "code",
      "execution_count": 202,
      "metadata": {},
      "outputs": [
        {
          "data": {
            "text/html": [
              "<div>\n",
              "<style scoped>\n",
              "    .dataframe tbody tr th:only-of-type {\n",
              "        vertical-align: middle;\n",
              "    }\n",
              "\n",
              "    .dataframe tbody tr th {\n",
              "        vertical-align: top;\n",
              "    }\n",
              "\n",
              "    .dataframe thead th {\n",
              "        text-align: right;\n",
              "    }\n",
              "</style>\n",
              "<table border=\"1\" class=\"dataframe\">\n",
              "  <thead>\n",
              "    <tr style=\"text-align: right;\">\n",
              "      <th></th>\n",
              "      <th>Item_Identifier</th>\n",
              "      <th>Outlet_Identifier</th>\n",
              "    </tr>\n",
              "  </thead>\n",
              "  <tbody>\n",
              "    <tr>\n",
              "      <th>0</th>\n",
              "      <td>FDW58</td>\n",
              "      <td>OUT049</td>\n",
              "    </tr>\n",
              "    <tr>\n",
              "      <th>1</th>\n",
              "      <td>FDW14</td>\n",
              "      <td>OUT017</td>\n",
              "    </tr>\n",
              "    <tr>\n",
              "      <th>2</th>\n",
              "      <td>NCN55</td>\n",
              "      <td>OUT010</td>\n",
              "    </tr>\n",
              "    <tr>\n",
              "      <th>3</th>\n",
              "      <td>FDQ58</td>\n",
              "      <td>OUT017</td>\n",
              "    </tr>\n",
              "    <tr>\n",
              "      <th>4</th>\n",
              "      <td>FDY38</td>\n",
              "      <td>OUT027</td>\n",
              "    </tr>\n",
              "  </tbody>\n",
              "</table>\n",
              "</div>"
            ],
            "text/plain": [
              "  Item_Identifier Outlet_Identifier\n",
              "0           FDW58            OUT049\n",
              "1           FDW14            OUT017\n",
              "2           NCN55            OUT010\n",
              "3           FDQ58            OUT017\n",
              "4           FDY38            OUT027"
            ]
          },
          "execution_count": 202,
          "metadata": {},
          "output_type": "execute_result"
        }
      ],
      "source": [
        "df_sumission = df_sumission[['Item_Identifier', 'Outlet_Identifier']]\n",
        "df_sumission.head()"
      ]
    },
    {
      "cell_type": "code",
      "execution_count": 203,
      "metadata": {},
      "outputs": [],
      "source": [
        "df_sumission['Item_Outlet_Sales'] = prediction"
      ]
    },
    {
      "cell_type": "code",
      "execution_count": 204,
      "metadata": {},
      "outputs": [],
      "source": [
        "# Let's save the submission file\n",
        "df_sumission.to_csv('submission.csv', index=False)"
      ]
    },
    {
      "cell_type": "code",
      "execution_count": null,
      "metadata": {},
      "outputs": [],
      "source": []
    }
  ],
  "metadata": {
    "colab": {
      "collapsed_sections": [],
      "name": "9.3 Loan Prediction Data Preparation.ipynb",
      "provenance": []
    },
    "kernelspec": {
      "display_name": "Python 3 (ipykernel)",
      "language": "python",
      "name": "python3"
    },
    "language_info": {
      "codemirror_mode": {
        "name": "ipython",
        "version": 3
      },
      "file_extension": ".py",
      "mimetype": "text/x-python",
      "name": "python",
      "nbconvert_exporter": "python",
      "pygments_lexer": "ipython3",
      "version": "3.9.13"
    }
  },
  "nbformat": 4,
  "nbformat_minor": 0
}
